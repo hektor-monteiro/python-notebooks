{
 "cells": [
  {
   "cell_type": "markdown",
   "metadata": {},
   "source": [
    "# Loops de FOR\n",
    "\n",
    "o loop de **for** é mais comum que o **while**\n",
    "\n",
    "**for** é um loop que passa por elementos de uma lista ou array unidimensional\n",
    "\n",
    "um bloco de instruções dentro de um **for** é identada na mesma forma de um **if**\n",
    "\n",
    "as instruções **break** e **continue** podem ser usadas como nos loops e **while**\n",
    "\n"
   ]
  },
  {
   "cell_type": "code",
   "execution_count": 5,
   "metadata": {
    "collapsed": false,
    "jupyter": {
     "outputs_hidden": false
    }
   },
   "outputs": [
    {
     "name": "stdout",
     "output_type": "stream",
     "text": [
      "1\n",
      "2 \n",
      "\n",
      "3\n",
      "6 \n",
      "\n",
      "5\n",
      "10 \n",
      "\n",
      "terminou\n"
     ]
    }
   ],
   "source": [
    "r = [ 1, 3, 5 ]\n",
    "for n in r:         # Para n em r faça:\n",
    "    print(n)\n",
    "    print (2*n , '\\n')\n",
    "print (\"terminou\")\n"
   ]
  },
  {
   "cell_type": "markdown",
   "metadata": {},
   "source": [
    "O uso mais comum do loop **for** é executar um conjunto de instruções um dado numero de vezes\n",
    "\n",
    "Para isso Python tem uma função especial chamada **range** que cria um iterador de um determinado tamanho\n"
   ]
  },
  {
   "cell_type": "code",
   "execution_count": 3,
   "metadata": {
    "collapsed": false,
    "jupyter": {
     "outputs_hidden": false
    }
   },
   "outputs": [
    {
     "name": "stdout",
     "output_type": "stream",
     "text": [
      "range(0, 5)\n",
      "range(0, 5) <class 'range'>\n"
     ]
    }
   ],
   "source": [
    "print (range(5))\n",
    "\n",
    "a = range(5)\n",
    "\n",
    "print (a, type(a))"
   ]
  },
  {
   "cell_type": "code",
   "execution_count": 5,
   "metadata": {
    "collapsed": false,
    "jupyter": {
     "outputs_hidden": false
    }
   },
   "outputs": [
    {
     "name": "stdout",
     "output_type": "stream",
     "text": [
      "0 Olá de novo\n",
      "1 Olá de novo\n",
      "2 Olá de novo\n",
      "3 Olá de novo\n",
      "4 Olá de novo\n"
     ]
    }
   ],
   "source": [
    "r = range(5)\n",
    "for n in r:\n",
    "    print(n,\"Olá de novo\")\n"
   ]
  },
  {
   "cell_type": "code",
   "execution_count": 7,
   "metadata": {
    "collapsed": false,
    "jupyter": {
     "outputs_hidden": false
    }
   },
   "outputs": [
    {
     "name": "stdout",
     "output_type": "stream",
     "text": [
      "0\n",
      "1\n",
      "4\n",
      "9\n",
      "16\n"
     ]
    }
   ],
   "source": [
    "for n in range(5):\n",
    "    print (n**2)\n"
   ]
  },
  {
   "cell_type": "markdown",
   "metadata": {},
   "source": [
    "a função range pode ser usada de algumas formas importantes:"
   ]
  },
  {
   "cell_type": "code",
   "execution_count": 10,
   "metadata": {
    "collapsed": false,
    "jupyter": {
     "outputs_hidden": false
    }
   },
   "outputs": [
    {
     "name": "stdout",
     "output_type": "stream",
     "text": [
      "range(0, 5)\n",
      "range(2, 8)\n",
      "range(2, 20, 3)\n",
      "range(20, 2, -3)\n",
      "\n",
      "2\n",
      "5\n",
      "8\n",
      "11\n",
      "14\n",
      "17\n"
     ]
    }
   ],
   "source": [
    "print (range(5))           # 5 elementos de 0 a 5-1\n",
    "print (range(2,8))         # elementos de 2 a 8-1\n",
    "print (range(2,20,3))      # elementos de 2 a 20-1 espaçados de 3 em 3\n",
    "print (range(20,2,-3))     # elementos de 20 a 2 espaçados de -3 em -3 \n",
    "\n",
    "print('')\n",
    "for n in range(2,20,3):\n",
    "    print(n)\n"
   ]
  },
  {
   "cell_type": "code",
   "execution_count": 14,
   "metadata": {
    "collapsed": false,
    "jupyter": {
     "outputs_hidden": false
    }
   },
   "outputs": [
    {
     "name": "stdout",
     "output_type": "stream",
     "text": [
      "5.0\n"
     ]
    },
    {
     "ename": "TypeError",
     "evalue": "'float' object cannot be interpreted as an integer",
     "output_type": "error",
     "traceback": [
      "\u001b[0;31m---------------------------------------------------------------------------\u001b[0m",
      "\u001b[0;31mTypeError\u001b[0m                                 Traceback (most recent call last)",
      "\u001b[0;32m<ipython-input-14-c3448fe6a44e>\u001b[0m in \u001b[0;36m<module>\u001b[0;34m\u001b[0m\n\u001b[1;32m      3\u001b[0m \u001b[0mq\u001b[0m \u001b[0;34m=\u001b[0m \u001b[0;36m2\u001b[0m\u001b[0;34m\u001b[0m\u001b[0;34m\u001b[0m\u001b[0m\n\u001b[1;32m      4\u001b[0m \u001b[0mprint\u001b[0m\u001b[0;34m(\u001b[0m\u001b[0mp\u001b[0m\u001b[0;34m/\u001b[0m\u001b[0mq\u001b[0m\u001b[0;34m)\u001b[0m\u001b[0;34m\u001b[0m\u001b[0;34m\u001b[0m\u001b[0m\n\u001b[0;32m----> 5\u001b[0;31m \u001b[0;32mfor\u001b[0m \u001b[0mn\u001b[0m \u001b[0;32min\u001b[0m \u001b[0mrange\u001b[0m\u001b[0;34m(\u001b[0m\u001b[0mp\u001b[0m\u001b[0;34m/\u001b[0m\u001b[0mq\u001b[0m\u001b[0;34m)\u001b[0m\u001b[0;34m:\u001b[0m\u001b[0;34m\u001b[0m\u001b[0;34m\u001b[0m\u001b[0m\n\u001b[0m\u001b[1;32m      6\u001b[0m     \u001b[0mprint\u001b[0m\u001b[0;34m(\u001b[0m\u001b[0mn\u001b[0m\u001b[0;34m)\u001b[0m\u001b[0;34m\u001b[0m\u001b[0;34m\u001b[0m\u001b[0m\n\u001b[1;32m      7\u001b[0m \u001b[0;34m\u001b[0m\u001b[0m\n",
      "\u001b[0;31mTypeError\u001b[0m: 'float' object cannot be interpreted as an integer"
     ]
    }
   ],
   "source": [
    "# a construção abaixo não funciona em Python 3 pois o resultado da divisão é sempre um float\n",
    "p = 10\n",
    "q = 2\n",
    "print(p/q)\n",
    "for n in range(p/q):\n",
    "    print(n)\n",
    "    \n",
    "for n in range(int(p/q)):\n",
    "    print(n)"
   ]
  },
  {
   "cell_type": "markdown",
   "metadata": {},
   "source": [
    "**numpy** também tem uma funão semelhante chamada **arange**\n",
    "\n",
    "ela é semlhante mas cria um array e não uma lista, e pode ser do tipo float ou inteiro"
   ]
  },
  {
   "cell_type": "code",
   "execution_count": 16,
   "metadata": {
    "collapsed": false,
    "jupyter": {
     "outputs_hidden": false
    }
   },
   "outputs": [
    {
     "name": "stdout",
     "output_type": "stream",
     "text": [
      "[1 3 5 7]\n",
      "[1. 3. 5. 7.]\n",
      "<class 'numpy.ndarray'>\n",
      "1\n",
      "3\n",
      "5\n",
      "7\n"
     ]
    }
   ],
   "source": [
    "from numpy import arange\n",
    "print (arange(1,8,2))\n",
    "print (arange(1,8,2.))\n",
    "\n",
    "print(type(arange(1,8,2)))\n",
    "\n",
    "for n in arange(1,8,2):\n",
    "    print(n)"
   ]
  },
  {
   "cell_type": "markdown",
   "metadata": {},
   "source": [
    "**numpy** também permite dividir um intervalo em um dado numero de pedaços com a função **linspace**"
   ]
  },
  {
   "cell_type": "code",
   "execution_count": 21,
   "metadata": {
    "collapsed": false,
    "jupyter": {
     "outputs_hidden": false
    }
   },
   "outputs": [
    {
     "name": "stdout",
     "output_type": "stream",
     "text": [
      "[2.  2.4 2.8]\n",
      "0 2.0\n",
      "1 2.25\n",
      "2 2.5\n",
      "3 2.75\n",
      "4 3.0\n",
      "\n",
      "0 2.0 2.0\n",
      "1 2.25 2.25\n",
      "2 2.5 2.5\n",
      "3 2.75 2.75\n",
      "4 3.0 3.0\n"
     ]
    }
   ],
   "source": [
    "from numpy import linspace\n",
    "\n",
    "print (linspace(2.0,2.8,3))\n",
    "\n",
    "x = linspace(2.0,3.0,5)\n",
    "\n",
    "for i in range(5):\n",
    "    print(i,x[i])\n",
    "    \n",
    "print('')\n",
    "\n",
    "for i,val in enumerate(x):\n",
    "    print(i,val, x[i])"
   ]
  },
  {
   "cell_type": "markdown",
   "metadata": {},
   "source": [
    "## Funções\n",
    "\n",
    "Python permite aos usuários definir suas funções\n",
    "\n",
    "veja o exemplo de calcular um produtório:\n",
    "\n",
    "$$ n! = \\displaystyle\\prod_{k=1}^{n} k $$"
   ]
  },
  {
   "cell_type": "code",
   "execution_count": 41,
   "metadata": {
    "collapsed": false,
    "jupyter": {
     "outputs_hidden": false
    }
   },
   "outputs": [
    {
     "name": "stdout",
     "output_type": "stream",
     "text": [
      "entre com n: 10\n",
      "3628800.0\n"
     ]
    }
   ],
   "source": [
    "n = int(input('entre com n: '))\n",
    "f = 1.0\n",
    "for k in range(1,n+1):\n",
    "    f *= k\n",
    "print f"
   ]
  },
  {
   "cell_type": "markdown",
   "metadata": {},
   "source": [
    "se quisermos reutilizar a rotina acima é interessante criar uma função\n",
    "\n",
    "note atentamente a estrutura de identação\n",
    "\n",
    "a sintaxe é:"
   ]
  },
  {
   "cell_type": "code",
   "execution_count": 25,
   "metadata": {
    "collapsed": false,
    "jupyter": {
     "outputs_hidden": false
    }
   },
   "outputs": [
    {
     "name": "stdout",
     "output_type": "stream",
     "text": [
      "3628800.0\n"
     ]
    }
   ],
   "source": [
    "def fatorial(nn):           # define o nome da função e os parametros de entrada\n",
    "                            \n",
    "    f = 1.0                     # inicio do bloco de instruções\n",
    "    for k in range(1,nn+1):\n",
    "        f *= k                  # fim do bloco de instruções\n",
    "    \n",
    "    return f                    # retorna um valor\n",
    "\n",
    "\n",
    "# podemos chamar a função com:\n",
    "\n",
    "a = fatorial(10)\n",
    "\n",
    "print(a)\n"
   ]
  },
  {
   "cell_type": "markdown",
   "metadata": {},
   "source": [
    "um ponto importante é que variáveis criadas dentro de uma função não funcionam fora dela\n",
    "\n",
    "funções podem ter vários parametros:\n"
   ]
  },
  {
   "cell_type": "code",
   "execution_count": 29,
   "metadata": {
    "collapsed": false,
    "jupyter": {
     "outputs_hidden": false
    }
   },
   "outputs": [
    {
     "name": "stdout",
     "output_type": "stream",
     "text": [
      "2.5\n"
     ]
    }
   ],
   "source": [
    "from numpy import cos,sin,sqrt\n",
    "\n",
    "def distance(r,theta,z):\n",
    "    x = r*cos(theta)\n",
    "    y = r*sin(theta)\n",
    "    d = sqrt(x**2+y**2+z**2)\n",
    "    return d\n",
    "\n",
    "print distance(2.0,0.1,-1.5)\n"
   ]
  },
  {
   "cell_type": "code",
   "execution_count": 1,
   "metadata": {
    "collapsed": false,
    "jupyter": {
     "outputs_hidden": false
    }
   },
   "outputs": [
    {
     "name": "stdout",
     "output_type": "stream",
     "text": [
      "[[ 0.          0.99500417  2.86600947  5.52877014]\n",
      " [ 0.          0.09983342  0.88656062  3.02038089]] <type 'numpy.ndarray'>\n",
      "(2, 4)\n",
      "<type 'list'>\n"
     ]
    }
   ],
   "source": [
    "from numpy import array,cos,sin,sqrt\n",
    "\n",
    "# funções podem retornar listas, arrays \n",
    "\n",
    "def cartesian(r,theta):\n",
    "    x = r*cos(theta)\n",
    "    y = r*sin(theta)\n",
    "    position = array([x,y])\n",
    "    return position\n",
    "\n",
    "r = [0.,1., 3., 6.3]\n",
    "theta = [0., 0.1, 0.3, 0.5]\n",
    "\n",
    "res = cartesian(r,theta)\n",
    "\n",
    "print res, type(res)\n",
    "print res.shape\n",
    "print type(range(5))"
   ]
  },
  {
   "cell_type": "code",
   "execution_count": 30,
   "metadata": {
    "collapsed": false,
    "jupyter": {
     "outputs_hidden": false
    }
   },
   "outputs": [
    {
     "name": "stdout",
     "output_type": "stream",
     "text": [
      "[0.         0.99500417 2.86600947 5.52877014] <class 'numpy.ndarray'>\n",
      "[0.         0.09983342 0.88656062 3.02038089] <class 'numpy.ndarray'>\n"
     ]
    }
   ],
   "source": [
    "from numpy import array,cos,sin,sqrt\n",
    "\n",
    "# funções podem retornar multiplos valores\n",
    "\n",
    "def cartesian(r,theta):\n",
    "    xc = r*cos(theta)\n",
    "    yc = r*sin(theta)\n",
    "    return xc,yc\n",
    "\n",
    "r = [0.,1., 3., 6.3]\n",
    "theta = [0., 0.1, 0.3, 0.5]\n",
    "\n",
    "x, y = cartesian(r,theta)        # note a alocação múltipla!\n",
    "\n",
    "print (x, type(x))\n",
    "print (y, type(y))\n"
   ]
  },
  {
   "cell_type": "markdown",
   "metadata": {},
   "source": [
    "funções não precisam retornar valores"
   ]
  },
  {
   "cell_type": "code",
   "execution_count": 40,
   "metadata": {
    "collapsed": false,
    "jupyter": {
     "outputs_hidden": false
    }
   },
   "outputs": [
    {
     "name": "stdout",
     "output_type": "stream",
     "text": [
      "hello world!\n"
     ]
    }
   ],
   "source": [
    "def printa(s):\n",
    "    print s\n",
    "    \n",
    "printa('hello world!')"
   ]
  },
  {
   "cell_type": "markdown",
   "metadata": {},
   "source": [
    "voce pode importar suas funções salvas em um arquivo a parte usando o **import**"
   ]
  },
  {
   "cell_type": "markdown",
   "metadata": {},
   "source": [
    "## Exercício\n",
    "\n",
    "1 - Faça um programa que calcule a somatória:\n",
    "\n",
    "$\\displaystyle\\sum_{n=1}^{100} \\frac{1}{n}$\n",
    "\n",
    "2 - Faça um programa que calcule as primeiras 5 linhas das 3 principais séries de linhas do Hidrogenio (m=1,2,3), Lyman, Balmer e Paschen de acordo com a fórmula de Rydberg(https://en.wikipedia.org/wiki/Rydberg_formula):\n",
    "\n",
    "![alt text](https://upload.wikimedia.org/wikipedia/commons/thumb/b/b2/Hydrogen_transitions.svg/400px-Hydrogen_transitions.svg.png)\n",
    "\n",
    "$$\\frac{1}{\\lambda} = R \\left( \\frac{1}{m^2} - \\frac{1}{n^2} \\right)$$\n",
    "\n",
    "onde $R=1.097 \\times 10^{-2} nm^{-1}$ e m, n são numeros inteiros positivos. Para um dado valor de $m$, os comprimentos de onda $\\lambda$ de uma série são dados para valores n de modo que $n>m$"
   ]
  },
  {
   "cell_type": "code",
   "execution_count": null,
   "metadata": {
    "collapsed": true,
    "jupyter": {
     "outputs_hidden": true
    }
   },
   "outputs": [],
   "source": []
  }
 ],
 "metadata": {
  "anaconda-cloud": {},
  "kernelspec": {
   "display_name": "Python 3 (ipykernel)",
   "language": "python",
   "name": "python3"
  },
  "language_info": {
   "codemirror_mode": {
    "name": "ipython",
    "version": 3
   },
   "file_extension": ".py",
   "mimetype": "text/x-python",
   "name": "python",
   "nbconvert_exporter": "python",
   "pygments_lexer": "ipython3",
   "version": "3.7.10"
  }
 },
 "nbformat": 4,
 "nbformat_minor": 4
}
