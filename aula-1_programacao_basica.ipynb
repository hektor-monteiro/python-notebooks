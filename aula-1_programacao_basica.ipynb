{
 "cells": [
  {
   "cell_type": "markdown",
   "metadata": {},
   "source": [
    "# Programação básica\n",
    "\n",
    "programas são um conjunto de instruções para o computador\n",
    "\n",
    "## variáveis\n",
    "\n",
    "quantidades são representadas por variáveis no mesmo sentido que são aplicadas em algebra\n",
    "\n",
    "podemos alocar valores para variáveis:"
   ]
  },
  {
   "cell_type": "code",
   "execution_count": 1,
   "metadata": {},
   "outputs": [],
   "source": [
    "x = 1.0                 # isso é uma alocação\n",
    "\n",
    "x, y = 3.0, 4.5         # python permite fazer alocações multiplas\n",
    "\n",
    "u, v = 2*x+1, (x+y)/3   # podemos usar expressões matemáticas nas alocações"
   ]
  },
  {
   "cell_type": "markdown",
   "metadata": {},
   "source": [
    "vamos usar variáveos extensivamente para representar grandezas físicas\n",
    "\n",
    "em python podemos usar nomes com várias letras ou mesmo numeros e letras\n",
    "\n",
    "variáveis não podem começar com um número\n",
    "\n",
    "alguns caracterers com & não podem ser usados em nomes de variáveis pois são reservados\n",
    "\n",
    "python distingue entre maiúsculas e minúsculas, logo, x é diferente de X e podem ter valores distintos\n",
    "\n",
    "de a suas variáveis nomes que tenham significado relacionado ao que elas são. Por exemplo, se voce vai usar uma variavel para energia, não a denomine de E, use energia ou ener"
   ]
  },
  {
   "cell_type": "markdown",
   "metadata": {},
   "source": [
    "## Tipos básicos\n",
    "\n",
    "em física usamos três tipos básicos de variáveis: inteiro, ponto flutuante e complexo\n",
    "\n",
    "### Inteiro"
   ]
  },
  {
   "cell_type": "code",
   "execution_count": 2,
   "metadata": {},
   "outputs": [
    {
     "name": "stdout",
     "output_type": "stream",
     "text": [
      "2\n"
     ]
    },
    {
     "data": {
      "text/plain": [
       "int"
      ]
     },
     "execution_count": 2,
     "metadata": {},
     "output_type": "execute_result"
    }
   ],
   "source": [
    "print (1 + 1)\n",
    "a = 4\n",
    "type(a)"
   ]
  },
  {
   "cell_type": "markdown",
   "metadata": {},
   "source": [
    "### Floats"
   ]
  },
  {
   "cell_type": "code",
   "execution_count": 3,
   "metadata": {},
   "outputs": [
    {
     "name": "stdout",
     "output_type": "stream",
     "text": [
      "the value in c is a  <class 'float'>\n"
     ]
    }
   ],
   "source": [
    "c = 2.1\n",
    "print('the value in c is a ',type(c))"
   ]
  },
  {
   "cell_type": "markdown",
   "metadata": {},
   "source": [
    "### Complexos\n",
    "\n",
    "note que em python a unidade de complexo é o j e não i como usual"
   ]
  },
  {
   "cell_type": "code",
   "execution_count": 4,
   "metadata": {},
   "outputs": [
    {
     "name": "stdout",
     "output_type": "stream",
     "text": [
      "1.5\n",
      "0.5\n"
     ]
    },
    {
     "data": {
      "text/plain": [
       "complex"
      ]
     },
     "execution_count": 4,
     "metadata": {},
     "output_type": "execute_result"
    }
   ],
   "source": [
    "a = 1.5 + 0.5j\n",
    "print (a.real)\n",
    "print (a.imag)\n",
    "type(1. + 0j)"
   ]
  },
  {
   "cell_type": "markdown",
   "metadata": {},
   "source": [
    "### Boleanos"
   ]
  },
  {
   "cell_type": "code",
   "execution_count": 5,
   "metadata": {},
   "outputs": [
    {
     "name": "stdout",
     "output_type": "stream",
     "text": [
      "False\n",
      "False\n"
     ]
    },
    {
     "data": {
      "text/plain": [
       "bool"
      ]
     },
     "execution_count": 5,
     "metadata": {},
     "output_type": "execute_result"
    }
   ],
   "source": [
    "print (3 > 4)\n",
    "test = (3 > 4)\n",
    "print (test)\n",
    "type(test)"
   ]
  },
  {
   "cell_type": "markdown",
   "metadata": {},
   "source": [
    "### strings"
   ]
  },
  {
   "cell_type": "code",
   "execution_count": 6,
   "metadata": {},
   "outputs": [
    {
     "name": "stdout",
     "output_type": "stream",
     "text": [
      "isso é uma string\n",
      "a variável x é  <class 'str'>\n",
      "a variável y é  <class 'str'>\n"
     ]
    }
   ],
   "source": [
    "x = 'isso é uma string'\n",
    "print (x)\n",
    "print ('a variável x é ',type(x))\n",
    "\n",
    "y = '1.23'\n",
    "print ('a variável y é ',type(y))\n"
   ]
  },
  {
   "cell_type": "markdown",
   "metadata": {},
   "source": [
    "é importante tentar sempre usar o tipo de variável adequada pois um integer ocupa menos memoria que um float e este ocupa menos que um complexo. Em programas que operam com milhões ou bilhões de números essa diferença pode ficar relevanterecebem\n",
    "\n",
    "inteiros não sofrem com problemas de precisão\n",
    "\n",
    "em python variáveis não precisam ser declaradas com tipo definido antes de serem usadas. As variáveis definem o tipo baseado no input que recebem "
   ]
  },
  {
   "cell_type": "markdown",
   "metadata": {},
   "source": [
    "### operações básicas\n",
    "\n",
    "em python as operações aritiméticas funcionam como esperado em algebra, seguindo as regras usuais"
   ]
  },
  {
   "cell_type": "code",
   "execution_count": 7,
   "metadata": {},
   "outputs": [
    {
     "name": "stdout",
     "output_type": "stream",
     "text": [
      "8\n",
      "5.0\n",
      "21.0\n",
      "1024\n",
      "3.5\n",
      "2\n",
      "2.3000000000000007\n",
      "4\n",
      "4.666666666666667\n"
     ]
    }
   ],
   "source": [
    "print (3 + 5)    # adição\n",
    "print (10 - 5.)  # subtração\n",
    "print (7 * 3.)   # multiplicação\n",
    "print (2**10)    # potencia\n",
    "\n",
    "print (7./2)\n",
    "\n",
    "print (14 % 3)    # retorna o resto da divisão\n",
    "print (14.3 % 3)\n",
    "\n",
    "print (14//3)     # retorna a parte inteira da divisão\n",
    "print (14/3.)"
   ]
  },
  {
   "cell_type": "markdown",
   "metadata": {},
   "source": [
    "python também permite algumas construções que podem ter utilidade em programas mais complexos:"
   ]
  },
  {
   "cell_type": "code",
   "execution_count": 8,
   "metadata": {},
   "outputs": [
    {
     "name": "stdout",
     "output_type": "stream",
     "text": [
      "1\n",
      "-3\n",
      "7.800000000000001\n",
      "0.78\n",
      "1.0\n"
     ]
    }
   ],
   "source": [
    "x = 0\n",
    "\n",
    "x += 1        # adicione 1 a x\n",
    "print (x)\n",
    "\n",
    "x -= 4        # subtraia 4 de x\n",
    "print (x)\n",
    "\n",
    "x *= -2.6     # multiplique x por -2.6\n",
    "print (x)\n",
    "\n",
    "y = 2\n",
    "\n",
    "x /= 5*y     # divide por 5 vezes y\n",
    "print (x)\n",
    "\n",
    "x //= 0.4    # divide x por 3.4 e arredonda para inteiro\n",
    "print (x)"
   ]
  },
  {
   "cell_type": "markdown",
   "metadata": {},
   "source": [
    "## Entrada e saída\n",
    "\n",
    "já vimos acima uma das principais formas de saída: print\n",
    "\n",
    "exitem diferenças do print em python 2.7 e 3: fiquem atentos!\n"
   ]
  },
  {
   "cell_type": "code",
   "execution_count": 9,
   "metadata": {},
   "outputs": [
    {
     "name": "stdout",
     "output_type": "stream",
     "text": [
      "o valor de x é 1 e o valor de y é 2\n"
     ]
    }
   ],
   "source": [
    "# um exemplo de uso do print\n",
    "\n",
    "x=1\n",
    "y=2\n",
    "\n",
    "print(\"o valor de x é\",x,'e o valor de y é',y)"
   ]
  },
  {
   "cell_type": "markdown",
   "metadata": {},
   "source": [
    "### input\n",
    "\n",
    "fazer input é um pouco mais elaborado\n",
    "\n",
    "o formato básico é:"
   ]
  },
  {
   "cell_type": "code",
   "execution_count": 10,
   "metadata": {},
   "outputs": [
    {
     "name": "stdout",
     "output_type": "stream",
     "text": [
      "Entre com o valor de x:5.3\n"
     ]
    }
   ],
   "source": [
    "x = input('Entre com o valor de x:')"
   ]
  },
  {
   "cell_type": "code",
   "execution_count": 11,
   "metadata": {},
   "outputs": [
    {
     "name": "stdout",
     "output_type": "stream",
     "text": [
      "ovalor de x é 5.3 e o seu tipo é <class 'str'>\n"
     ]
    }
   ],
   "source": [
    "print ('ovalor de x é', x, 'e o seu tipo é', type(x))"
   ]
  },
  {
   "cell_type": "markdown",
   "metadata": {},
   "source": [
    "ATENÇÃO: nessa função também existe diferença entre python 2.7 e 3.\n",
    "Em python 3 input sempre recebe a variável como string e a definição de tipo de variável é feita depois. Em 2.7 a variável é definida com base no que foi entrado."
   ]
  },
  {
   "cell_type": "code",
   "execution_count": 1,
   "metadata": {},
   "outputs": [
    {
     "name": "stdout",
     "output_type": "stream",
     "text": [
      "Entre com o valor de x:4\n",
      "o valor de x é 4 e o seu tipo é <class 'str'>\n"
     ]
    }
   ],
   "source": [
    "x = input('Entre com o valor de x:')\n",
    "print ('o valor de x é', x, 'e o seu tipo é', type(x))"
   ]
  },
  {
   "cell_type": "code",
   "execution_count": 13,
   "metadata": {},
   "outputs": [
    {
     "name": "stdout",
     "output_type": "stream",
     "text": [
      "Entre com o valor de x:2.1\n",
      "ovalor de x é 2.1 e o seu tipo é <class 'float'>\n"
     ]
    }
   ],
   "source": [
    "# quando pre-definimos o tipo de entrada desejada\n",
    "x = float(input('Entre com o valor de x:'))\n",
    "print ('ovalor de x é', x, 'e o seu tipo é', type(x))"
   ]
  },
  {
   "cell_type": "markdown",
   "metadata": {},
   "source": [
    "## módulos, pacotes e funções\n",
    "\n",
    "muitas operações que vamos precisar fazer são mais complicadas que pura aritmética\n",
    "\n",
    "python tem pacotes e funções prontas para lidar com boa parte dessas complicações\n",
    "\n",
    "normalmente as coisas são organizadas em pacotes com um dado nome, que contém coisas relacionadas.\n",
    "\n",
    "por exemplo o pacote math contém funções matemáticas:"
   ]
  },
  {
   "cell_type": "code",
   "execution_count": 14,
   "metadata": {},
   "outputs": [
    {
     "name": "stdout",
     "output_type": "stream",
     "text": [
      "4.605170185988092 2.0\n"
     ]
    }
   ],
   "source": [
    "from math import log, log10        # esse é o formato para importar pacotes\n",
    "\n",
    "print (log(100.0), log10(100.0))"
   ]
  },
  {
   "cell_type": "code",
   "execution_count": 15,
   "metadata": {},
   "outputs": [
    {
     "ename": "NameError",
     "evalue": "name 'sqrt' is not defined",
     "output_type": "error",
     "traceback": [
      "\u001b[0;31m---------------------------------------------------------------------------\u001b[0m",
      "\u001b[0;31mNameError\u001b[0m                                 Traceback (most recent call last)",
      "\u001b[0;32m<ipython-input-15-2841510e7e7e>\u001b[0m in \u001b[0;36m<module>\u001b[0;34m\u001b[0m\n\u001b[1;32m      1\u001b[0m \u001b[0;31m# se tentarmos usar uma função não importada teremos um erro\u001b[0m\u001b[0;34m\u001b[0m\u001b[0;34m\u001b[0m\u001b[0;34m\u001b[0m\u001b[0m\n\u001b[1;32m      2\u001b[0m \u001b[0;34m\u001b[0m\u001b[0m\n\u001b[0;32m----> 3\u001b[0;31m \u001b[0mprint\u001b[0m \u001b[0;34m(\u001b[0m\u001b[0msqrt\u001b[0m\u001b[0;34m(\u001b[0m\u001b[0;36m4.0\u001b[0m\u001b[0;34m)\u001b[0m\u001b[0;34m)\u001b[0m\u001b[0;34m\u001b[0m\u001b[0;34m\u001b[0m\u001b[0m\n\u001b[0m",
      "\u001b[0;31mNameError\u001b[0m: name 'sqrt' is not defined"
     ]
    }
   ],
   "source": [
    "# se tentarmos usar uma função não importada teremos um erro\n",
    "\n",
    "print (sqrt(4.0))"
   ]
  },
  {
   "cell_type": "code",
   "execution_count": 16,
   "metadata": {},
   "outputs": [
    {
     "name": "stdout",
     "output_type": "stream",
     "text": [
      "2.0\n"
     ]
    }
   ],
   "source": [
    "# uma solução é importar todo o pacote\n",
    "from math import *\n",
    "print (sqrt(4.0))"
   ]
  },
  {
   "cell_type": "markdown",
   "metadata": {},
   "source": [
    "importar todo o pacote deve ser evitado por economia de memória. Além disso pode levar a conflitos inesperados de nomes de variáveis."
   ]
  },
  {
   "cell_type": "markdown",
   "metadata": {},
   "source": [
    "## Exercícios:\n",
    "\n",
    "#### 1 - Suponha que a posição de um ponto no espaço bidimensional é dado em coordenadas polares $r$, $\\theta$ e queremos convertê-lo em coordenadas cartesianas x , y. Escreva um programa para fazer essa conversão. Para isso faça:\n",
    "\n",
    "- Obter do usuário os valores de $r$ e $\\theta$.\n",
    "- converter esses valores em coordenadas cartesianas usando as fórmulas: $x = rcos(\\theta)$ e $y = rsin(\\theta)$\n",
    "\n",
    "#### 2 - Escreva um programa que compute os principais parametros de um lançamento obliquo dado o módulo da velocidade inicial e o angulo de lançamento. Imprima a saída de maneira que os resultados sejam descritos claramente.\n",
    "\n",
    "#### 3 - Escreva um programa que cheque se um numero dado é par ou impar.\n",
    "\n",
    "#### 4 - Exercício 1.8: Atualizar variável no prompt de comando: Chame Python interativamente e execute as etapas a seguir.\n",
    "- Inicialize uma variável x para 2\n",
    "- Adicione 3 a x. Imprima o resultado.\n",
    "- Que tipo de variável é x?\n",
    "- Imprima o resultado de x+1*2 e de (x+1.0)*2. (Observe como os parenteses e a notação fazem a diferença).\n",
    "- Que tipo de variável é x em cada caso?"
   ]
  },
  {
   "cell_type": "code",
   "execution_count": null,
   "metadata": {},
   "outputs": [],
   "source": []
  }
 ],
 "metadata": {
  "kernelspec": {
   "display_name": "Python 3 (ipykernel)",
   "language": "python",
   "name": "python3"
  },
  "language_info": {
   "codemirror_mode": {
    "name": "ipython",
    "version": 3
   },
   "file_extension": ".py",
   "mimetype": "text/x-python",
   "name": "python",
   "nbconvert_exporter": "python",
   "pygments_lexer": "ipython3",
   "version": "3.7.10"
  }
 },
 "nbformat": 4,
 "nbformat_minor": 4
}
