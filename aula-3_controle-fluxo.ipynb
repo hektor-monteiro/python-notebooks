{
 "cells": [
  {
   "cell_type": "markdown",
   "metadata": {},
   "source": [
    "# Controlando o programa\n",
    "\n",
    "programas simples são sequencias lineares de operaçoes\n",
    "\n",
    "existem opções para adotar um fluxo menos linear\n",
    "\n",
    "opções para tomar decisões e poder executar uma ou outra instrução\n",
    "\n",
    "## Controles de fluxo\n",
    "\n",
    "muitas vezes queremos executar uma instrução se uma condição prévia for satisfeita\n",
    "\n",
    "para isso usamos a instrução **if**, veja o exemplo abaixo:"
   ]
  },
  {
   "cell_type": "code",
   "execution_count": 6,
   "metadata": {},
   "outputs": [
    {
     "name": "stdin",
     "output_type": "stream",
     "text": [
      "entre com um numero inteiro não maior que 10 : 4\n"
     ]
    },
    {
     "name": "stdout",
     "output_type": "stream",
     "text": [
      "seu número é  4\n"
     ]
    }
   ],
   "source": [
    "x=int(input(\"entre com um numero inteiro não maior que 10 :\"))\n",
    "\n",
    "if x > 10:\n",
    "    print(\"oops, vamos arrumar isso...\")\n",
    "    x = 10\n",
    "    \n",
    "print(\"seu número é \",x)"
   ]
  },
  {
   "cell_type": "markdown",
   "metadata": {},
   "source": [
    "Note a estrutura da instrução **if**\n",
    "\n",
    "if expressão:\n",
    "   instruções\n",
    "   \n",
    "note em particular a indentação"
   ]
  },
  {
   "cell_type": "code",
   "execution_count": 3,
   "metadata": {},
   "outputs": [
    {
     "ename": "IndentationError",
     "evalue": "unexpected indent (<ipython-input-3-817c3ec4fae5>, line 5)",
     "output_type": "error",
     "traceback": [
      "\u001b[1;36m  File \u001b[1;32m\"<ipython-input-3-817c3ec4fae5>\"\u001b[1;36m, line \u001b[1;32m5\u001b[0m\n\u001b[1;33m    x = 10\u001b[0m\n\u001b[1;37m    ^\u001b[0m\n\u001b[1;31mIndentationError\u001b[0m\u001b[1;31m:\u001b[0m unexpected indent\n"
     ]
    }
   ],
   "source": [
    "x=int(input(\"entre com um numero inteiro não maior que 10 :\"))\n",
    "\n",
    "if x > 10:\n",
    "    print(\"oops, vamos arrumar isso...\")\n",
    "        x = 10                              # aqui está um erro de indentação\n",
    "    \n",
    "print(\"seu número é \",x)\n"
   ]
  },
  {
   "cell_type": "markdown",
   "metadata": {},
   "source": [
    "o tamanho da indentação pode ser qualquer, mas deve ser consistente dentro de um bloco\n",
    "\n",
    "de modo geral existe um \"padrão\" de 4 espaços para indentação\n",
    "\n",
    "programas como Spyder já fazem a indentação automaticamente\n",
    "\n",
    "Veja abaixo alguns testes de condições básicos:"
   ]
  },
  {
   "cell_type": "markdown",
   "metadata": {},
   "source": [
    "if x == 1            # checar se x igual a 1  \n",
    "if x > 1             # checar se x maior que 1  \n",
    "if x < 1             # checar se x menor que 1  \n",
    "if x >= 1             # checar se x maior ou igual a 1  \n",
    "if x <= 1             # checar se x menor ou igual a 1  \n",
    "if x != 1             # checar se x é diferente de 1  \n",
    "\n",
    "\n",
    "é possível combinar duas condições em uma instrução"
   ]
  },
  {
   "cell_type": "code",
   "execution_count": 8,
   "metadata": {},
   "outputs": [
    {
     "name": "stdout",
     "output_type": "stream",
     "text": [
      "ok\n",
      "ok\n"
     ]
    }
   ],
   "source": [
    "x = 12\n",
    "if x>10 or x<1:\n",
    "    print(\"ok\")\n",
    "    \n",
    "x=8\n",
    "if x <= 10 and x >= 1:\n",
    "    print(\"ok\")"
   ]
  },
  {
   "cell_type": "markdown",
   "metadata": {},
   "source": [
    "### If, elif e else\n",
    "\n",
    "Além do **if** existem outras duas formas de trabalhar com condições.\n",
    "\n",
    "**else**: significa \"se não satisfeita a condição anterior, faça isso\"  \n",
    "**elif**: significa \"se não satisfeita a condição anterior, faça isso se esta outra condição for satisfeita\"\n"
   ]
  },
  {
   "cell_type": "code",
   "execution_count": 12,
   "metadata": {},
   "outputs": [
    {
     "name": "stdout",
     "output_type": "stream",
     "text": [
      "seu numero é proximo de 10\n"
     ]
    }
   ],
   "source": [
    "x = 9\n",
    "\n",
    "if x > 10:\n",
    "    print(\"seu numero é maior que 10\")\n",
    "elif x >= 9:\n",
    "    print(\"seu numero é proximo de 10\")\n",
    "else:\n",
    "    print(\"seu numero está ok.\")\n"
   ]
  },
  {
   "cell_type": "markdown",
   "metadata": {},
   "source": [
    "### a instrução while\n",
    "\n",
    "uma importante variação da instrução **if** é a instrução **while**.\n",
    "\n",
    "ele se comporta de maneira similar, através de condições que são checadas\n",
    "\n",
    "no entanto, **while** executa o bloco de código até a condição ser satisfeita"
   ]
  },
  {
   "cell_type": "code",
   "execution_count": null,
   "metadata": {},
   "outputs": [],
   "source": [
    "x=int(input(\"entre com um numero inteiro não maior que 10 :\"))\n",
    "\n",
    "while x > 10:\n",
    "    print(\"esse numero é maior que 10, tente de novo.\")\n",
    "    x=int(input(\"entre com um numero inteiro não maior que 10 :\"))\n",
    "print(\"seu numero é :\",x)"
   ]
  },
  {
   "cell_type": "markdown",
   "metadata": {},
   "source": [
    "## Break e Continue\n",
    "\n",
    "As vezes pode ser útil quebrar uma sequencia de código. \n",
    "\n",
    "Para blocos de **while** existe a opção break"
   ]
  },
  {
   "cell_type": "code",
   "execution_count": 16,
   "metadata": {},
   "outputs": [
    {
     "name": "stdout",
     "output_type": "stream",
     "text": [
      "O numero é maior que 10, tente de novo.\n",
      "Entre com um numero inteiro menor que 10: 111\n"
     ]
    }
   ],
   "source": [
    "x = 12\n",
    "while x > 10:\n",
    "    print(\"O numero é maior que 10, tente de novo.\")\n",
    "    x = int(input(\"Entre com um numero inteiro menor que 10: \"))\n",
    "    if x == 111:\n",
    "        break"
   ]
  },
  {
   "cell_type": "markdown",
   "metadata": {},
   "source": [
    "note que caso exista um **else** após o **while** esta instrução não será executada!\n",
    "\n",
    "note também a instrução **if** dentro do loop de **while**\n",
    "\n",
    "A instrução **continue** é uma variante que permite que se pule as instruções até o final do loop mas sem sair deste\n",
    "\n"
   ]
  },
  {
   "cell_type": "markdown",
   "metadata": {},
   "source": [
    "## Exercícios:\n",
    "\n",
    "#### 1 - Faça um programa para calcular a sequencia de Fibonacci até 1000.\n",
    "\n",
    "Veja detalhes sobre a sequência aqui: https://en.wikipedia.org/wiki/Fibonacci_number\n",
    "\n",
    "#### 2 - Usando o inicio de código abaixo, finalize o programa para encontrar o tempo em que o projetil passa de sua altura máxima:\n",
    "\n",
    "```python\n",
    "from numpy import linspace\n",
    "\n",
    "v0 = 4.5 # velocidade inicial\n",
    "g = 9.81 # aceleração da gravidade\n",
    "t = linspace(0, 1, 1000) # 1000 pontos do intervalo de tempo\n",
    "y = v0*t - 0.5*g*t**2 # calcula todas as alturas do lançamento\n",
    "\n",
    "# ache quando a bola passa de y=0\n",
    "...\n",
    "```\n",
    "\n",
    "#### 3 - Faça um programa que peça um numero ao usuário e identifique se o numero é par ou ímpar\n"
   ]
  },
  {
   "cell_type": "code",
   "execution_count": null,
   "metadata": {},
   "outputs": [],
   "source": []
  },
  {
   "cell_type": "code",
   "execution_count": null,
   "metadata": {},
   "outputs": [],
   "source": []
  }
 ],
 "metadata": {
  "kernelspec": {
   "display_name": "Python 3 (ipykernel)",
   "language": "python",
   "name": "python3"
  },
  "language_info": {
   "codemirror_mode": {
    "name": "ipython",
    "version": 3
   },
   "file_extension": ".py",
   "mimetype": "text/x-python",
   "name": "python",
   "nbconvert_exporter": "python",
   "pygments_lexer": "ipython3",
   "version": "3.7.10"
  }
 },
 "nbformat": 4,
 "nbformat_minor": 4
}
