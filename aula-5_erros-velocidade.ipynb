{
 "cells": [
  {
   "cell_type": "markdown",
   "metadata": {},
   "source": [
    "# Acurácia e velocidade\n",
    "\n",
    "Agora já temos os componentes básicos da linguagem Python para poder atacar os problemas de física\n",
    "\n",
    "no entanto, precisamos explorar ainda as limitações do computador visto que não pode guardar números com precisão infinita\n",
    "\n",
    "existe um limite superior e inferior ao que se pode guardar e também de velocidade em que operações podem ser efetuadas\n",
    "\n",
    "## variáveis e intervalos\n",
    "\n",
    "o maior numero float que pode ser armazenado é em módulo $10^{308}$\n",
    "\n",
    "o mesmo vale para numeros imaginários\n",
    "\n",
    "usualmente escrevemos os numeros de ponto flutuante grandes com notação científica na forma : 3.14e10 o que equivale a $3.14 \\times 10^{10}$\n",
    "\n",
    "caso uma operação gere um numero maior que o máximo aceito pelo computador o valor **inf** será alocado e em geral o programa não é interrompido."
   ]
  },
  {
   "cell_type": "code",
   "execution_count": 1,
   "metadata": {},
   "outputs": [
    {
     "name": "stdout",
     "output_type": "stream",
     "text": [
      "1e+308 inf\n"
     ]
    }
   ],
   "source": [
    "x = 1.e308\n",
    "y = x * 10.\n",
    "print (x,y)"
   ]
  },
  {
   "cell_type": "markdown",
   "metadata": {},
   "source": [
    "em Python inteiros podem ter tantos algarismos quanto a memória do computador permitir"
   ]
  },
  {
   "cell_type": "code",
   "execution_count": 2,
   "metadata": {},
   "outputs": [
    {
     "name": "stdout",
     "output_type": "stream",
     "text": [
      "788657867364790503552363213932185062295135977687173263294742533244359449963403342920304284011984623904177212138919638830257642790242637105061926624952829931113462857270763317237396988943922445621451664240254033291864131227428294853277524242407573903240321257405579568660226031904170324062351700858796178922222789623703897374720000000000000000000000000000000000000000000000000\n"
     ]
    }
   ],
   "source": [
    "factorial = 1\n",
    "for k in range(1,201):\n",
    "    factorial *= k\n",
    "print (factorial)"
   ]
  },
  {
   "cell_type": "code",
   "execution_count": 3,
   "metadata": {},
   "outputs": [
    {
     "name": "stdout",
     "output_type": "stream",
     "text": [
      "inf\n"
     ]
    }
   ],
   "source": [
    "factorial = 1.0\n",
    "for k in range(1,201):\n",
    "    factorial *= k\n",
    "print (factorial)"
   ]
  },
  {
   "cell_type": "markdown",
   "metadata": {},
   "source": [
    "## Erro numérico\n",
    "\n",
    "números de ponto flutuante só podem ser representados com uma certa precisão\n",
    "\n",
    "Em Python o padrão de representação é de 16 algarismos significativos\n",
    "\n",
    "Veja o caso de $\\pi$:\n",
    "\n",
    "valor verdadeiro: 3.1415926535897932384626 . . .  \n",
    "valor no Python:  3.141592653589793  \n",
    "diferença:        0.0000000000000002384626 . . .  \n",
    "\n",
    "\n",
    "\n"
   ]
  },
  {
   "cell_type": "code",
   "execution_count": 4,
   "metadata": {},
   "outputs": [
    {
     "name": "stdout",
     "output_type": "stream",
     "text": [
      "3.141592653589793\n",
      "3.141592653589793\n"
     ]
    },
    {
     "data": {
      "text/plain": [
       "3.141592653589793"
      ]
     },
     "execution_count": 4,
     "metadata": {},
     "output_type": "execute_result"
    }
   ],
   "source": [
    "import numpy as np\n",
    "import math as math\n",
    "\n",
    "print (np.pi) \n",
    "print (math.pi)\n",
    "\n",
    "np.pi"
   ]
  },
  {
   "cell_type": "markdown",
   "metadata": {},
   "source": [
    "Uma lição importante é que floats não devem ser usados na avaliação de igualdades\n",
    "\n",
    "veja abaixo:"
   ]
  },
  {
   "cell_type": "code",
   "execution_count": 5,
   "metadata": {},
   "outputs": [
    {
     "name": "stdout",
     "output_type": "stream",
     "text": [
      "3.30000000000000026645e+00\n"
     ]
    }
   ],
   "source": [
    "x = 1.1+2.2\n",
    "\n",
    "print (\"%10.20e\"%x)\n",
    "\n",
    "if x == 3.3:\n",
    "    print (\"o valor é:\", x)\n",
    "    \n",
    "    "
   ]
  },
  {
   "cell_type": "code",
   "execution_count": 6,
   "metadata": {},
   "outputs": [
    {
     "name": "stdout",
     "output_type": "stream",
     "text": [
      "o valor é: 3.3000000000000003\n"
     ]
    }
   ],
   "source": [
    "# a melhor maneira de testar igualdade de floats, caso seja necessária seria:\n",
    "\n",
    "x = 1.1+2.2\n",
    "\n",
    "epsilon = 1e-12\n",
    "if abs(x-3.3)<epsilon:\n",
    "    print (\"o valor é:\", x)\n"
   ]
  },
  {
   "cell_type": "markdown",
   "metadata": {},
   "source": [
    "As mesmas regras de propagação de erros são válidas no tratamento de erros no computador\n",
    "\n",
    "pode-se mostrar que o erro de uma soma de N números é dada por:\n",
    "\n",
    "$\\sigma = C\\sqrt{N}\\sqrt{\\bar{x}^2}$\n",
    "\n",
    "Veja que o erro cresce com o numero de termos somados (para mais detalhes veja: http://www.umich.edu/~mejn/cp/chapters/errors.pdf)\n",
    "\n",
    "De modo geral esse comportamento é razoável e o erro relativo tende a diminuir com o aumento de termos somados.\n",
    "Problemas em geral acontecem quando se somam números de tamanhos muito diferentes. Nesses casos os números muito menores podem se perder no erro.\n",
    "\n",
    "Os maiores problemas acontecem quando fazemos subtração de numeros. Veja o exemplo abaixo:\n"
   ]
  },
  {
   "cell_type": "code",
   "execution_count": 8,
   "metadata": {},
   "outputs": [
    {
     "name": "stdout",
     "output_type": "stream",
     "text": [
      "1000000000000000.00000000000000000000      1000000000000001.25000000000000000000      1.25000000000000000000\n",
      "-0.0125000091125466\n"
     ]
    }
   ],
   "source": [
    "# o caso abaixo mostra uma situação onde o erro relativo é bem grande\n",
    "x = 1000000000000000\n",
    "y = 1000000000000001.2345678901234\n",
    "\n",
    "\n",
    "print (\"%10.20f\"%x, '    ', \"%10.20f\"%y,'    ',\"%10.20f\"%(y-x))\n",
    "print ((1.2345678901234 - (y-x) ) / 1.2345678901234)\n"
   ]
  },
  {
   "cell_type": "code",
   "execution_count": 9,
   "metadata": {},
   "outputs": [
    {
     "name": "stdout",
     "output_type": "stream",
     "text": [
      "1.4210854715202004\n",
      "1.4142135623730951\n"
     ]
    }
   ],
   "source": [
    "# outro exemplo envolvendo subtração de numeros\n",
    "from math import sqrt\n",
    "x = 1.0\n",
    "y = 1.0 + (1e-14)*sqrt(2)\n",
    "print((1e14)*(y-x))\n",
    "print(sqrt(2))\n"
   ]
  },
  {
   "cell_type": "markdown",
   "metadata": {},
   "source": [
    "Veja que o erro cometido está na segunda casa decimal!\n",
    "\n",
    "problemas de erros ao subtrair numeros muito próximos podem ocorrer em cálculos de física e devemos ficar atentos a eles"
   ]
  },
  {
   "cell_type": "code",
   "execution_count": 10,
   "metadata": {},
   "outputs": [
    {
     "name": "stdout",
     "output_type": "stream",
     "text": [
      "0 -> 0.20000000000000017764\n",
      "1 -> 0.20000000000000195399\n",
      "2 -> 0.20000000000002149392\n",
      "3 -> 0.20000000000023643310\n",
      "4 -> 0.20000000000260076405\n",
      "5 -> 0.20000000002860840453\n",
      "6 -> 0.20000000031469244988\n",
      "7 -> 0.20000000346161694864\n",
      "8 -> 0.20000003807778643505\n",
      "9 -> 0.20000041885565078559\n",
      "10 -> 0.20000460741215864147\n",
      "11 -> 0.20005068153374505613\n",
      "12 -> 0.20055749687119561742\n",
      "13 -> 0.20613246558315179158\n",
      "14 -> 0.26745712141466970735\n",
      "15 -> 0.94202833556136678084\n",
      "16 -> 8.36231169117503370103\n",
      "17 -> 89.98542860292536715860\n",
      "18 -> 987.83971463217903874465\n",
      "19 -> 10864.23686095396988093853\n"
     ]
    }
   ],
   "source": [
    "niter = 20\n",
    "\n",
    "x = 0.2 \n",
    "\n",
    "for i in range(niter):\n",
    "    x = (11.0*x - 2.0)\n",
    "    print (i, '->', \"%10.20f\"% x)"
   ]
  },
  {
   "cell_type": "markdown",
   "metadata": {},
   "source": [
    "## velocidade\n",
    "\n",
    "é interessante ter uma noção sobre os limites de velocidade de computação \n",
    "\n",
    "esses aspectos podem ser importantes na tomada de decisões de programação\n",
    "\n",
    "#### Exemplo\n",
    "\n",
    "O oscilador harmonico simples quantico tem niveis de energia dados por:\n",
    "\n",
    "$E_n = \\hbar \\omega (n+\\frac{1}{2})$\n",
    "\n",
    "A energia média para o oscilador a uma temperatura T é:\n",
    "\n",
    "$\\left\\langle E\\right\\rangle =\\dfrac {1} {Z}\\displaystyle\\sum _{n=0}^{\\infty }E_{n}e^{-\\beta E_{n}}$\n",
    "\n",
    "onde $\\beta =1 / k_{B}T$ com $K_B$ a constante de Boltzmann e $Z=\\displaystyle\\sum _{n=0}^{\\infty }e^{-\\beta E_{n}}$\n",
    "\n",
    "Suponha que se queira calcular o valor de $\\left\\langle E\\right\\rangle$ quando $k_{B}T = 100$ \n",
    "\n",
    "Usando unidades de $\\hbar =\\omega =1$ temos o programa abaixo:"
   ]
  },
  {
   "cell_type": "code",
   "execution_count": 11,
   "metadata": {},
   "outputs": [
    {
     "name": "stdout",
     "output_type": "stream",
     "text": [
      "99.95543134093475\n",
      "tempo de execução de 0.0004489421844482422 secundos\n"
     ]
    }
   ],
   "source": [
    "from math import exp\n",
    "import time\n",
    "\n",
    "# para obter o tempo de execução\n",
    "start_time = time.time()\n",
    "\n",
    "# variáveis definidas no início para clareza\n",
    "\n",
    "terms = 1000 # número de termos a serem usados na soma\n",
    "\n",
    "beta = 1/100.\n",
    "S = 0.0\n",
    "Z = 0.0\n",
    "\n",
    "# note o uso de um looping para calculo das duas somas e o exponencial calculado uma só vez\n",
    "for n in range(terms):\n",
    "    E = n + 0.5\n",
    "    weight = exp(-beta*E)\n",
    "    S += weight*E\n",
    "    Z += weight\n",
    "print(S/Z)\n",
    "\n",
    "print(\"tempo de execução de %s secundos\" % (time.time() - start_time))"
   ]
  },
  {
   "cell_type": "code",
   "execution_count": 12,
   "metadata": {},
   "outputs": [
    {
     "name": "stdout",
     "output_type": "stream",
     "text": [
      "100.00083333194436\n",
      "tempo de execução de 0.3287210464477539 secundos\n"
     ]
    }
   ],
   "source": [
    "from math import exp\n",
    "import time\n",
    "\n",
    "# para obter o tempo de execução\n",
    "start_time = time.time()\n",
    "\n",
    "# variáveis definidas no início para clareza\n",
    "\n",
    "terms = 1000*1000 # número de termos a serem usados na soma\n",
    "\n",
    "beta = 1/100.\n",
    "S = 0.0\n",
    "Z = 0.0\n",
    "\n",
    "# note o uso de um looping para calculo das duas somas e o exponencial calculado uma só vez\n",
    "for n in range(terms):\n",
    "    E = n + 0.5\n",
    "    weight = exp(-beta*E)\n",
    "    S += weight*E\n",
    "    Z += weight\n",
    "print(S/Z)\n",
    "\n",
    "print(\"tempo de execução de %s secundos\" % (time.time() - start_time))"
   ]
  },
  {
   "cell_type": "code",
   "execution_count": 1,
   "metadata": {},
   "outputs": [
    {
     "name": "stdout",
     "output_type": "stream",
     "text": [
      "100.00083333194436\n",
      "tempo de execução de 32.77709221839905 secundos\n"
     ]
    }
   ],
   "source": [
    "from math import exp\n",
    "import time\n",
    "\n",
    "# para obter o tempo de execução\n",
    "start_time = time.time()\n",
    "\n",
    "# variáveis definidas no início para clareza\n",
    "\n",
    "terms = 100*1000*1000 # número de termos a serem usados na soma\n",
    "\n",
    "beta = 1/100.\n",
    "S = 0.0\n",
    "Z = 0.0\n",
    "\n",
    "# note o uso de um looping para calculo das duas somas e o exponencial calculado uma só vez\n",
    "for n in range(terms):\n",
    "    E = n + 0.5\n",
    "    weight = exp(-beta*E)\n",
    "    S += weight*E\n",
    "    Z += weight\n",
    "print(S/Z)\n",
    "\n",
    "print(\"tempo de execução de %s secundos\" % (time.time() - start_time))"
   ]
  },
  {
   "cell_type": "markdown",
   "metadata": {},
   "source": [
    "## Exercícios:\n",
    "\n",
    "#### 1 - Modifique o programa abaixo para testar seu comportamento em relação aos erros usando diferentes operações matemáticas.\n",
    "\n",
    "```python\n",
    "x = 1000000000000000\n",
    "y = 1000000000000001.2345678901234\n",
    "\n",
    "\n",
    "print (\"%10.20f\"% x, '\\n',\"%10.20f\"% y,'\\n',\"%10.20f\"% (y-x))\n",
    "print ((1.2345678901234 - (y-x) ) / 1.2345678901234)\n",
    "```\n"
   ]
  },
  {
   "cell_type": "code",
   "execution_count": null,
   "metadata": {},
   "outputs": [],
   "source": []
  }
 ],
 "metadata": {
  "anaconda-cloud": {},
  "kernelspec": {
   "display_name": "Python 3 (ipykernel)",
   "language": "python",
   "name": "python3"
  },
  "language_info": {
   "codemirror_mode": {
    "name": "ipython",
    "version": 3
   },
   "file_extension": ".py",
   "mimetype": "text/x-python",
   "name": "python",
   "nbconvert_exporter": "python",
   "pygments_lexer": "ipython3",
   "version": "3.7.10"
  }
 },
 "nbformat": 4,
 "nbformat_minor": 4
}
