{
 "cells": [
  {
   "cell_type": "markdown",
   "metadata": {},
   "source": [
    "# Listas e arrays (vetores)\n",
    "\n",
    "até agora vimos variáveis que representam valores unicos de um dado tipo\n",
    "\n",
    "em física é comum querer representar vários numeros com um nome como $\\vec{r}=(x,y,z)$\n",
    "\n",
    "Outro exemplo seria uma tabela com milhares de valores medidos para uma dada grandeza $a_1,a_2,a_3$ de modo que possamos usar $A={a_i}$ onde i é iterado no total de elementos de $A$\n",
    "\n",
    "Python permite lidar com essas situações usando containers como listas e arrays, que são as mais importantes e tuples, dicionarios e conjuntos, que são menos comuns\n",
    "\n"
   ]
  },
  {
   "cell_type": "markdown",
   "metadata": {},
   "source": [
    "## Listas\n",
    "\n",
    "o tipo mais básico de container em Python é a lista\n",
    "\n",
    "uma lista é uma lista de quantidades, que não precisam ser do mesmo tipo\n",
    "\n",
    "Em física no entanto, em geral usamos listas de elementos do mesmo tipo"
   ]
  },
  {
   "cell_type": "code",
   "execution_count": 6,
   "metadata": {},
   "outputs": [
    {
     "name": "stdout",
     "output_type": "stream",
     "text": [
      "[2, 3.4, 'teste']\n",
      "[9.0, 8.3, 337.8645683867659, 32.5]\n"
     ]
    }
   ],
   "source": [
    "lista = [2, 3.4, 'teste']   # sintaxe para definir uma lista\n",
    "print (lista)\n",
    "\n",
    "x = 3.0\n",
    "y = 5.3\n",
    "\n",
    "lista = [x**2, x+y, x**y, 2*x+5*y]  # usando expressões para definir listas\n",
    "print (lista)"
   ]
  },
  {
   "cell_type": "markdown",
   "metadata": {},
   "source": [
    "tendo definido listas provavelmente vamos querer fazer operações com elas\n",
    "\n",
    "os elementos de uma lista podem ser recuperados pela sua posição de alocação\n",
    "\n",
    "considere a lista l=[3, 5, 2, 45, 23] onde temos os seguintes elementos individuais:\n",
    "\n",
    "l[0] é 3, l[1] é 5, l[2] é 2 e assim por diante\n",
    "\n",
    "note que a indexação se inicia em 0, ou seja, l[0] é o primeiro elemento da lista\n",
    "\n",
    "os elementos individuais funcionam como variáveis únicas"
   ]
  },
  {
   "cell_type": "code",
   "execution_count": 7,
   "metadata": {},
   "outputs": [
    {
     "name": "stdout",
     "output_type": "stream",
     "text": [
      "2.8442925306655784\n",
      "[1.0, 3.5, -2.2]\n"
     ]
    }
   ],
   "source": [
    "from math import sqrt\n",
    "\n",
    "r = [1.0, 1.5, -2.2]\n",
    "tamanho = sqrt( r[0]**2 + r[1]**2 + r[2]**2 )   # calculando o módulo de um vetor\n",
    "print (tamanho)\n",
    "\n",
    "# podemos mudar o valor de elementos individuais na lista:\n",
    "r[1] = 3.5\n",
    "print (r)"
   ]
  },
  {
   "cell_type": "markdown",
   "metadata": {},
   "source": [
    "uma capacidade importante e poderosa em Python é a de poder fazer operações com listas\n",
    "\n",
    "Algumas usuais são: sum, max, min, len, mean"
   ]
  },
  {
   "cell_type": "code",
   "execution_count": 8,
   "metadata": {},
   "outputs": [
    {
     "name": "stdout",
     "output_type": "stream",
     "text": [
      "0.2999999999999998\n",
      "1.5 -2.2\n",
      "3\n",
      "0.09999999999999994\n"
     ]
    }
   ],
   "source": [
    "r = [1.0, 1.5, -2.2]\n",
    "total = sum(r)           # essa função retorna a soma de todos os elementos da lista\n",
    "print (total)\n",
    "\n",
    "print (max(r), min(r))     # maximo e minimo da lista r\n",
    "\n",
    "print (len(r))            # tamanho da lista\n",
    "\n",
    "media = sum(r)/len(r)   # calculando a média\n",
    "print (media)"
   ]
  },
  {
   "cell_type": "markdown",
   "metadata": {},
   "source": [
    "Uma função especial em Python é a **map**. Ela permite aplicar funções a todos os elementos de uma lista\n",
    "\n"
   ]
  },
  {
   "cell_type": "code",
   "execution_count": 4,
   "metadata": {},
   "outputs": [
    {
     "name": "stdout",
     "output_type": "stream",
     "text": [
      "[0.0, 0.4054651081081644, 0.7884573603642703] <class 'list'>\n"
     ]
    }
   ],
   "source": [
    "from math import log\n",
    "\n",
    "r = [1.0, 1.5, 2.2]\n",
    "\n",
    "logr = list(map(log, r))\n",
    "print (logr, type(logr))"
   ]
  },
  {
   "cell_type": "markdown",
   "metadata": {},
   "source": [
    "outra possibilidade importante com listas em Python é a abilidade de adicionar ou remover elementos"
   ]
  },
  {
   "cell_type": "code",
   "execution_count": 12,
   "metadata": {},
   "outputs": [
    {
     "name": "stdout",
     "output_type": "stream",
     "text": [
      "[1.0, 1.5, 2.2, 6.2]\n",
      "[1.0, 1.5, 2.2, 6.2, 7]\n"
     ]
    }
   ],
   "source": [
    "r = [1.0, 1.5, 2.2]\n",
    "r.append(6.2)\n",
    "print (r)\n",
    "\n",
    "x= 3\n",
    "r.append(2*x+1)\n",
    "print (r)"
   ]
  },
  {
   "cell_type": "markdown",
   "metadata": {},
   "source": [
    "pode-se criar uma lista vazia e ir adicionando elementos a medida que o programa evolui"
   ]
  },
  {
   "cell_type": "code",
   "execution_count": 13,
   "metadata": {},
   "outputs": [
    {
     "name": "stdout",
     "output_type": "stream",
     "text": [
      "[0, 1, 2, 3, 4, 5, 6, 7, 8, 9]\n",
      "[0, 1, 2, 3, 4, 5, 6, 7, 8]\n",
      "[0, 1, 2, 4, 5, 6, 7, 8]\n"
     ]
    }
   ],
   "source": [
    "r=[]\n",
    "i = 0\n",
    "while i < 10:\n",
    "    r.append(i)\n",
    "    i += 1\n",
    "print (r)\n",
    "\n",
    "# removendo elementos\n",
    "r.pop()\n",
    "print (r)\n",
    "\n",
    "# removendo um elemento específico\n",
    "r.pop(3)\n",
    "print (r)"
   ]
  },
  {
   "cell_type": "markdown",
   "metadata": {},
   "source": [
    "## Arrays\n",
    "\n",
    "arrays são semelhantes a listas, mas existem diferenças importantes:\n",
    "\n",
    "1 - arrays tem tamanho fixo e não podem ser alterados depois de criados  \n",
    "2 - arrays tem que ter todos os elementos do mesmo tipo\n",
    "\n",
    "mas arrays tem vantagens: podem ser multidimensionais, se comportam como vetores, podemos fazer aritmética com eles ( o que não funciona com listas) e as operações com eles são mais rápidas em geral.\n",
    "\n",
    "antes de usar um array voce precisa cria-lo dizendo de que tipo será e com quantos elementos\n",
    "\n",
    "o modulo em Python usado para lidar com arrays é o **numpy**\n",
    "\n",
    "\n",
    "\n",
    "\n"
   ]
  },
  {
   "cell_type": "code",
   "execution_count": 5,
   "metadata": {},
   "outputs": [
    {
     "name": "stdout",
     "output_type": "stream",
     "text": [
      "[0. 0. 0. 0.]\n"
     ]
    }
   ],
   "source": [
    "from numpy import zeros\n",
    "a = zeros(4,float)\n",
    "print (a)\n"
   ]
  },
  {
   "cell_type": "markdown",
   "metadata": {},
   "source": [
    "note que os arrays são impressos de modo distinto das listas, sem virgula separando os elementos\n",
    "\n"
   ]
  },
  {
   "cell_type": "code",
   "execution_count": 15,
   "metadata": {},
   "outputs": [
    {
     "name": "stdout",
     "output_type": "stream",
     "text": [
      "[0 0 0 0 0 0 0 0 0 0]\n",
      "[0.+0.j 0.+0.j 0.+0.j 0.+0.j 0.+0.j 0.+0.j 0.+0.j 0.+0.j 0.+0.j 0.+0.j]\n",
      "['' '' '' '' '' '' '' '' '' '']\n"
     ]
    }
   ],
   "source": [
    "a = zeros(10,int)        # array de inteiros\n",
    "b = zeros(10,complex)    # array de complexos\n",
    "c = zeros(10,str)        # array de strings\n",
    "\n",
    "print (a)\n",
    "print (b)\n",
    "print (c)"
   ]
  },
  {
   "cell_type": "code",
   "execution_count": 6,
   "metadata": {},
   "outputs": [
    {
     "name": "stdout",
     "output_type": "stream",
     "text": [
      "[[[0. 0. 0. 0. 0.]\n",
      "  [0. 0. 0. 0. 0.]\n",
      "  [0. 0. 0. 0. 0.]\n",
      "  [0. 0. 0. 0. 0.]]\n",
      "\n",
      " [[0. 0. 0. 0. 0.]\n",
      "  [0. 0. 0. 0. 0.]\n",
      "  [0. 0. 0. 0. 0.]\n",
      "  [0. 0. 0. 0. 0.]]\n",
      "\n",
      " [[0. 0. 0. 0. 0.]\n",
      "  [0. 0. 0. 0. 0.]\n",
      "  [0. 0. 0. 0. 0.]\n",
      "  [0. 0. 0. 0. 0.]]]\n",
      "[[0, 1], [2, 3]]\n"
     ]
    }
   ],
   "source": [
    "# criando arrays multi dimensionais\n",
    "from numpy import zeros\n",
    "\n",
    "a = zeros([3,4,5],float)      # array de dimensões 3 linhas x 4 colunas\n",
    "print (a)\n",
    "\n",
    "print ([[0,1],[2,3]])"
   ]
  },
  {
   "cell_type": "markdown",
   "metadata": {},
   "source": [
    "outra maneira de se criar um array em **numpy** é usando a função array para converter uma lista:"
   ]
  },
  {
   "cell_type": "code",
   "execution_count": 17,
   "metadata": {},
   "outputs": [
    {
     "name": "stdout",
     "output_type": "stream",
     "text": [
      "[ 1.   1.5 -2.2]\n",
      "[ 1.   1.5 -2.2]\n"
     ]
    }
   ],
   "source": [
    "from numpy import array\n",
    "\n",
    "r = [ 1.0, 1.5, -2.2 ]   # lista\n",
    "a = array(r,float)       # array\n",
    "print (a)\n",
    "\n",
    "# ou em uma unica linha:\n",
    "a = array([1.0,1.5,-2.2],float)\n",
    "print (a)"
   ]
  },
  {
   "cell_type": "markdown",
   "metadata": {},
   "source": [
    "podemos também criar arrays multidimensionais definindo seus elementos:"
   ]
  },
  {
   "cell_type": "code",
   "execution_count": 18,
   "metadata": {},
   "outputs": [
    {
     "name": "stdout",
     "output_type": "stream",
     "text": [
      "[[1 2 3]\n",
      " [4 5 6]]\n"
     ]
    }
   ],
   "source": [
    "a = array([[1,2,3],[4,5,6]],int)\n",
    "print (a)\n"
   ]
  },
  {
   "cell_type": "markdown",
   "metadata": {},
   "source": [
    "a indexação funciona de maneira similar a listas"
   ]
  },
  {
   "cell_type": "code",
   "execution_count": 8,
   "metadata": {},
   "outputs": [
    {
     "name": "stdout",
     "output_type": "stream",
     "text": [
      "[[0 0 0 0 0 0 0 0 0 0]\n",
      " [0 0 0 0 0 0 0 0 0 0]\n",
      " [0 0 0 0 0 0 0 0 0 0]\n",
      " [0 0 0 0 0 0 0 0 0 0]\n",
      " [0 0 0 0 0 0 0 0 0 0]\n",
      " [0 0 0 0 0 0 0 0 0 0]\n",
      " [0 0 0 0 0 0 0 0 0 0]\n",
      " [0 0 0 0 0 0 0 0 0 0]\n",
      " [0 0 0 0 0 0 0 0 0 0]\n",
      " [0 0 0 0 0 0 0 0 0 0]] \n",
      "\n",
      "\n",
      "[99 99 99 99 99 99 99 99 99 99] \n",
      "\n",
      "[[ 0  1  0  0  0  0  0  0  0  0]\n",
      " [-1  0  0  0  0  0  0  0  0  0]\n",
      " [ 0  0  0  0  0  0  0  0  0  0]\n",
      " [ 0  0  0  0  0  0  0  0  0  0]\n",
      " [ 0  0  0  0  0  0  0  0  0  0]\n",
      " [99 99 99 99 99 99 99 99 99 99]\n",
      " [ 0  0  0  0  0  0  0  0  0  0]\n",
      " [ 0  0  0  0  0  0  0  0  0  0]\n",
      " [ 0  0  0  0  0  0  0  0  0  0]\n",
      " [ 0  0  0  0  0  0  0  0  0  0]]\n",
      "[[0 0]\n",
      " [0 0]\n",
      " [0 0]]\n"
     ]
    }
   ],
   "source": [
    "import numpy as np\n",
    "# from numpy import zeros\n",
    "\n",
    "a = np.zeros([10,10],int)\n",
    "print (a,'\\n')\n",
    "\n",
    "print('')\n",
    "\n",
    "a[5,:] = 99\n",
    "\n",
    "print (a[5,:],'\\n')\n",
    "\n",
    "# mude o valor de alguns elementos\n",
    "a[0,1] = 1\n",
    "a[1,0] = -1\n",
    "\n",
    "print (a)\n",
    "print (a[1:4,5:7])\n"
   ]
  },
  {
   "cell_type": "markdown",
   "metadata": {},
   "source": [
    "## Aritimética com arrays\n",
    "\n",
    "com em listas, os elementos dos arrays funcionam como variaveis isoladas.\n",
    "\n",
    "poderíamos fazer algo como a[0] = a[1] + 1 com elemntos do array a\n",
    "\n",
    "ou algo como x = a[2]**2 - 2*a[3]/y\n",
    "\n",
    "uma das grandes vantagens em Python é fazer aritimética com todo o vetor de uma vez:\n",
    "\n"
   ]
  },
  {
   "cell_type": "code",
   "execution_count": 10,
   "metadata": {},
   "outputs": [
    {
     "name": "stdout",
     "output_type": "stream",
     "text": [
      "[1 2 3 0] \n",
      "\n",
      "[2 4 6 0] \n",
      "\n",
      "[ 2.  2.  2. nan]\n"
     ]
    },
    {
     "name": "stderr",
     "output_type": "stream",
     "text": [
      "/home/hmonteiro/anaconda3/lib/python3.7/site-packages/ipykernel_launcher.py:8: RuntimeWarning: invalid value encountered in true_divide\n",
      "  \n"
     ]
    }
   ],
   "source": [
    "from numpy import array\n",
    "\n",
    "a = array([1,2,3,0],int)\n",
    "b = 2*a\n",
    "\n",
    "print (a, '\\n')\n",
    "print (b, '\\n')\n",
    "print (b/a)       # em casos como esse os arrays tem que ter o memso tamanho!\n"
   ]
  },
  {
   "cell_type": "markdown",
   "metadata": {},
   "source": [
    "note que a multiplicação de arrays não funciona exatamente com em matemática, produto escalar de dois vetores:"
   ]
  },
  {
   "cell_type": "code",
   "execution_count": 21,
   "metadata": {},
   "outputs": [
    {
     "name": "stdout",
     "output_type": "stream",
     "text": [
      "[ 2  8 18 32]\n"
     ]
    }
   ],
   "source": [
    "a = array([1,2,3,4],int)\n",
    "b = array([2,4,6,8],int)\n",
    "\n",
    "print (a*b)\n"
   ]
  },
  {
   "cell_type": "markdown",
   "metadata": {},
   "source": [
    "veja que o que aconteceu é que cada elemento foi multiplicado pelo seu correspondente no outro vetor\n",
    "\n",
    "Para fazer opeções de algebra linear como produto escalar o **numpy** tem funções específicas. Veja a lista completa em: \n",
    "https://docs.scipy.org/doc/numpy-1.13.0/reference/routines.linalg.html"
   ]
  },
  {
   "cell_type": "code",
   "execution_count": 22,
   "metadata": {},
   "outputs": [
    {
     "name": "stdout",
     "output_type": "stream",
     "text": [
      "60\n"
     ]
    }
   ],
   "source": [
    "from numpy import array,dot\n",
    "\n",
    "a = array([1,2,3,4],int)\n",
    "b = array([2,4,6,8],int)\n",
    "\n",
    "print (dot(a,b))             # imprime o produto escalar de a e b\n"
   ]
  },
  {
   "cell_type": "markdown",
   "metadata": {},
   "source": [
    "operações com matrizes podem ser feitas de maneira simples.\n",
    "\n",
    "Seja a operação:\n",
    "    \n",
    "$\\left( \\begin{array}{cc} 1 & 3 \\\\ 2 & 4 \\end{array} \\right) \\left( \\begin{array}{cc} 4 & -2 \\\\ -3 & 1 \\end{array} \\right) + 2 \\left( \\begin{array}{cc} 1 & 2 \\\\ 2 & 1 \\end{array} \\right)  = \\left( \\begin{array}{cc} -3 & 5 \\\\ 0 & 2 \\end{array} \\right) $\n",
    "\n"
   ]
  },
  {
   "cell_type": "code",
   "execution_count": 23,
   "metadata": {},
   "outputs": [
    {
     "name": "stdout",
     "output_type": "stream",
     "text": [
      "[[-3  5]\n",
      " [ 0  2]]\n"
     ]
    }
   ],
   "source": [
    "from numpy import array,dot, sqrt\n",
    "\n",
    "a = array([[1,3],[2,4]],int)\n",
    "b = array([[4,-2],[-3,1]],int)\n",
    "c = array([[1,2],[2,1]],int)\n",
    "\n",
    "print ((dot(a,b)+2*c)) \n"
   ]
  },
  {
   "cell_type": "markdown",
   "metadata": {},
   "source": [
    "podemos mapear funções em arrays como foi feito com listas\n",
    "\n",
    "alguns cuidados devem ser tomados pois funções usuais como max, min len não dão resultados esperados quando aplicados em arrays multidimensionais"
   ]
  },
  {
   "cell_type": "code",
   "execution_count": 24,
   "metadata": {},
   "outputs": [
    {
     "name": "stdout",
     "output_type": "stream",
     "text": [
      "4\n"
     ]
    }
   ],
   "source": [
    "from numpy import array\n",
    "\n",
    "a = array([[1,3],[2,4]],int)\n",
    "\n",
    "print (a.size)"
   ]
  },
  {
   "cell_type": "markdown",
   "metadata": {},
   "source": [
    "Mas **numpy** contem funções específicas para essas tarefas com arrays"
   ]
  },
  {
   "cell_type": "code",
   "execution_count": 11,
   "metadata": {},
   "outputs": [
    {
     "name": "stdout",
     "output_type": "stream",
     "text": [
      "4\n",
      "(2, 2)\n",
      "\n",
      "\n",
      "4\n",
      "2.5\n",
      "4 2.5 1.118033988749895\n"
     ]
    }
   ],
   "source": [
    "import numpy as np      # repare na outra forma de importar o numpy!\n",
    "\n",
    "a = array([[1,3],[2,4]],int)\n",
    "\n",
    "print (a.size)            # imprime o tamanho de a\n",
    "print (a.shape)           # imprime a forma de a\n",
    "print ('\\n')\n",
    "print (np.max(a))         # imprime o valor maximo em a\n",
    "print (np.mean(a))        # imprime a média dos elementos de a\n",
    "\n",
    "print(a.max(),a.mean(),a.std())"
   ]
  },
  {
   "cell_type": "markdown",
   "metadata": {},
   "source": [
    "## Exercício\n",
    "\n",
    "faça um programa para calcular a média geométrica de um conjunto de n valores\n",
    "\n",
    "$\\bar{x}=\\left[\\displaystyle\\prod_{i=1}^{n} x_i\\right]^{1/n}$ ou \n",
    "$\\bar{x} = exp \\left( \\frac{1}{n} \\displaystyle\\sum_{i=1}^{n} ln (x_i) \\right)$"
   ]
  },
  {
   "cell_type": "markdown",
   "metadata": {},
   "source": [
    "## Observe o programa abaixo:"
   ]
  },
  {
   "cell_type": "code",
   "execution_count": 13,
   "metadata": {},
   "outputs": [
    {
     "name": "stdout",
     "output_type": "stream",
     "text": [
      "True\n",
      "[3 1]\n",
      "[3 1]\n"
     ]
    }
   ],
   "source": [
    "from numpy import array\n",
    "a = array([1,1],int)\n",
    "b = a\n",
    "print (a[0] == b[0])\n",
    "a[0] = 3\n",
    "print (a)\n",
    "print (b)"
   ]
  },
  {
   "cell_type": "markdown",
   "metadata": {},
   "source": [
    "observe que no caso de arrays quando fazemos b = a isso não cria uma nova cópia de a! Isso é feito para economizar memória em situações com muitos arrays de grande numero de elementos.\n",
    "\n",
    "Para criar uma cópia o programa deveria ser:"
   ]
  },
  {
   "cell_type": "code",
   "execution_count": 14,
   "metadata": {},
   "outputs": [
    {
     "name": "stdout",
     "output_type": "stream",
     "text": [
      "[3 1]\n",
      "[1 1]\n"
     ]
    }
   ],
   "source": [
    "from numpy import array, copy\n",
    "a = array([1,1],int)\n",
    "b = copy(a)\n",
    "a[0] = 3\n",
    "print (a)\n",
    "print (b)"
   ]
  },
  {
   "cell_type": "markdown",
   "metadata": {},
   "source": [
    "Com listas e arrays podemos fazer cortes\n"
   ]
  },
  {
   "cell_type": "code",
   "execution_count": 29,
   "metadata": {},
   "outputs": [
    {
     "name": "stdout",
     "output_type": "stream",
     "text": [
      "[5, 7, 9]\n"
     ]
    }
   ],
   "source": [
    "r = [1,3,5,7,9,11,13,15]\n",
    "s = r[2:5]\n",
    "print (s)"
   ]
  },
  {
   "cell_type": "markdown",
   "metadata": {},
   "source": [
    "repare que o corte consiste em pegar os elementos 2, 3, 4\n",
    "\n",
    "Isso porque a indexação começa em 0"
   ]
  },
  {
   "cell_type": "code",
   "execution_count": 30,
   "metadata": {},
   "outputs": [
    {
     "name": "stdout",
     "output_type": "stream",
     "text": [
      "[2, 3, 4]\n",
      "[0, 1, 2, 3, 4]\n"
     ]
    }
   ],
   "source": [
    "r = [0,1,2,3,4,5,6,7,8,9]\n",
    "print (r[2:5])\n",
    "print (r[:5])      # imprime todos os elementos até mas não incluindo 5"
   ]
  },
  {
   "cell_type": "code",
   "execution_count": null,
   "metadata": {
    "collapsed": true,
    "jupyter": {
     "outputs_hidden": true
    }
   },
   "outputs": [],
   "source": [
    "import numpy as np"
   ]
  }
 ],
 "metadata": {
  "anaconda-cloud": {},
  "kernelspec": {
   "display_name": "Python 3 (ipykernel)",
   "language": "python",
   "name": "python3"
  },
  "language_info": {
   "codemirror_mode": {
    "name": "ipython",
    "version": 3
   },
   "file_extension": ".py",
   "mimetype": "text/x-python",
   "name": "python",
   "nbconvert_exporter": "python",
   "pygments_lexer": "ipython3",
   "version": "3.7.10"
  }
 },
 "nbformat": 4,
 "nbformat_minor": 4
}
