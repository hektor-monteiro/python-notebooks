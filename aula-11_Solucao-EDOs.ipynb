{
 "cells": [
  {
   "cell_type": "markdown",
   "metadata": {},
   "source": [
    "# Equações diferencias ordinárias\n",
    "\n",
    "Equações diferencias ordinárias (EDO) são equações contendo uma ou mais funções de uma variável independente e suas derivadas.\n",
    "\n",
    "A Lei de Newton é um exemplo de EDO:\n",
    "\n",
    "$$ \\frac{d\\vec{P}}{dt} = \\vec{F} $$\n",
    "\n",
    "EDO aparecem em inúmeros contextos científicos e práticos no mundo. É sem dúvida uma das principais ferramentas matemáticas usadas em particular na Física.\n",
    "\n",
    "Para uma descrição detalhada de EDOs veja: https://en.wikipedia.org/wiki/Ordinary_differential_equation\n",
    "\n",
    "Em muitas situações soluções exatas analíticas não são possíveis e portato precisamos adotar técnicas numéricas. Veremos aqui as principais técnicas e estratégias para resolver este tipo de equação.\n",
    "\n",
    "\n",
    "## Método de Euler\n",
    "\n",
    "Para entender de maneira mais simples a estratégia de solução numérica dessas equações partimos de:\n",
    "\n",
    "$$ a = \\frac{dv}{dt} $$\n",
    "\n",
    "podemos reescrever a equação acima como:\n",
    "\n",
    "$$ dv = a~dt $$ \n",
    "\n",
    "que pode ser discretizada como \n",
    "\n",
    "$$\\Delta v = a~ \\Delta t$$               (2)\n",
    "\n",
    "A partir daqui fica fácil implementar estratégias numéricas. Para tanto precisamos definir as condições iniciais do problema que desejamos resolver. A evolução da solução a partir das condições iniciais $t_0$ e $v_0$ é obtida como:\n",
    "\n",
    "$$ v_{i+1} = v_i + \\frac{dv}{dt}~\\Delta t $$\n",
    "\n",
    "Como sabemos a relação entre velocidade e posição podemos obter uma relação semelhante a acima para obter a posição do problema em questão, definindo assim o estado $[x_i,v_i]$ para uma dado tempo $t$.\n",
    "\n",
    "O método descrito acima é bem simples de ser implementado mas produz soluções bem aproximadas. Ele é conhecido como **Método de Euler**.\n",
    "\n",
    "## Montando o problema\n",
    "\n",
    "Antes de seguirmos na discussão dos métodos de resolução de EDOs, é interessante discutiros uma estratégia geral para montar o problema a ser resolvido. Isso facilitará a obtenção de soluções de problemas mais complexos e com métodos diversos mais a frente.\n",
    "\n",
    "Considere o problema de uma particula em queda livre:\n",
    "\n",
    "$$ \\ddot{x} = -g $$\n",
    "\n",
    "A equação acima pode ser decomposta em duas EDOs com derivadas simples:\n",
    "\n",
    "$$ \\dot{x} = v $$ $$ \\dot{v} = -g $$\n",
    "\n",
    "Usando o método de Euler para obter o estado $[x_i,v_i]$ da partícula em um dado $t$ temos:\n",
    "\n",
    "$$ x_{i+1} = x_i + \\dot{x}~\\Delta t $$\n",
    "$$ v_{i+1} = v_i + \\dot{v}~\\Delta t $$\n",
    "\n",
    "A forma acima sugere que podemos escrever o sistema acima como uma única equação vetorial sendo:\n",
    "\n",
    "$$ y = \\begin{bmatrix} x \\\\ v \\end{bmatrix} $$\n",
    "\n",
    "$$ \\dot{y} = \\begin{bmatrix} v \\\\ -g \\end{bmatrix} $$\n",
    "\n",
    "$$ y_{i+1} = y_i + \\dot{y}~\\Delta t ~~~~~~~~~~(1)$$\n",
    "\n",
    "Com base na equação acima, vemos que se temos uma função que retorna as derivadas relevantes do problema e as condições iniciais, podemos usar as capacidades vetoriais do Python para definir uma estratégia genérica de solução de EDOs.\n",
    "\n",
    "Primeiro definimos o problema ou modelo criando uma função que retorna as derivadas de todos os elementos de $y$.\n"
   ]
  },
  {
   "cell_type": "code",
   "execution_count": 2,
   "metadata": {},
   "outputs": [],
   "source": [
    "################################################################\n",
    "#      Queda livre\n",
    "# definindo o problema\n",
    "#\n",
    "#     d^2x/dt^2 = −g\n",
    "#\n",
    "#    y = [x,v] e dy/dt = [v,-g]\n",
    "#\n",
    "#   definimos o estado do sistema como y\n",
    "#\n",
    "\n",
    "def quedalivre(estado, tempo):\n",
    "    g0 = estado[1]\n",
    "    g1 = -9.8\n",
    "    return np.array( [ g0 , g1 ] )\n",
    "\n"
   ]
  },
  {
   "cell_type": "markdown",
   "metadata": {},
   "source": [
    "definido o modelo a ser estudado, podemos escrever a parte que realiza a solução, no caso a implementação do método de Euler:"
   ]
  },
  {
   "cell_type": "code",
   "execution_count": 5,
   "metadata": {},
   "outputs": [],
   "source": [
    "def euler(y,t,dt,model):\n",
    "    ynext = y + model(y, t) * dt\n",
    "    return ynext\n"
   ]
  },
  {
   "cell_type": "markdown",
   "metadata": {},
   "source": [
    "Note que a função do método recebe a posição atual, ou estado atual, o tempo atual e o $\\Delta t$ adotado, assim como a função que define o modelo a ser estudado. Esta função implemnta a equação (1) discutida acima.\n",
    "\n",
    "Implementando as duas funções acima para solução de um problema específico agora fica fácil:"
   ]
  },
  {
   "cell_type": "code",
   "execution_count": 15,
   "metadata": {},
   "outputs": [
    {
     "data": {
      "text/plain": [
       "<matplotlib.legend.Legend at 0x7f6dc6db3710>"
      ]
     },
     "execution_count": 15,
     "metadata": {},
     "output_type": "execute_result"
    },
    {
     "data": {
      "image/png": "[encoded data removed]",
      "text/plain": [
       "<Figure size 432x288 with 1 Axes>"
      ]
     },
     "metadata": {
      "needs_background": "light"
     },
     "output_type": "display_data"
    }
   ],
   "source": [
    "%matplotlib inline\n",
    "\n",
    "import matplotlib.pyplot as plt\n",
    "import numpy as np\n",
    "\n",
    "#plt.figure()\n",
    "\n",
    "for N in range(5,50,10):                # looping para gerar soluções com resoluções diferentes\n",
    "    \n",
    "    #definindo valores iniciais\n",
    "    tmax = 5.0                            #Tempo máximo para o cálculo\n",
    "    \n",
    "    dt = tmax / float(N-1)                # delta t a ser usado\n",
    "    \n",
    "    time = np.linspace(0 , tmax , N)      # vetor dos tempos\n",
    "    \n",
    "    #definindo o vetor de estado do modelo    \n",
    "    y = np.zeros( [ N, 2 ] )\n",
    "    \n",
    "    #definindo os estado inicial\n",
    "    y [0,0] = 100.                         # posição inicial\n",
    "    y [0,1] = 0.                           # velocidade inicial\n",
    "\n",
    "\n",
    "    # Aqui aplicamos o método de Euler a partir da condição inicial \n",
    "    # e seguindo pelo vetor de tempo\n",
    "    \n",
    "    for j in range (N-1):\n",
    "        y[j+1] = euler(y[j], time[j], dt, quedalivre)\n",
    "\n",
    "    \n",
    "    # plota as soluções obtidas\n",
    "    plt.plot(time,y[:,0], label=str(N))    \n",
    "    plt.ylim(0,110)\n",
    "    plt.xlabel('tempo')\n",
    "    plt.ylabel('espaco')\n",
    "    \n",
    "plt.legend()\n",
    "\n"
   ]
  },
  {
   "cell_type": "markdown",
   "metadata": {},
   "source": [
    "### Erros no método de  Euler\n",
    "\n",
    "Para avaliar os erros cometidos pelo método fazemos uma expansão de Série de Taylor da função y no ponto $t=t_0+h$:\n",
    "\n",
    "$$ y(t_{0}+h)=y(t_{0})+hy'(t_{0})+{\\frac {1}{2}}h^{2}y''(t_{0})+O(h^{3}). $$\n",
    "\n",
    "\n",
    "note que os dois primeiros termos da série são exatamente o método de Euler. Com isso o erro cometido em cada passo, ou erro de truncamento local (ETL) é dado por:\n",
    "\n",
    "$$ \\mathrm {ETL} =y(t_{0}+h)-y_{1}={\\frac {1}{2}}h^{2}y''(t_{0})+O(h^{3}). $$\n",
    "\n",
    "para $ \\xi \\in [t_{0},t_{0}+h]$.\n",
    "\n",
    "Como obtemos as soluções em um número de intervalos e não somente em um ponto, o erro local se propaga para os passos seguintes. Desse modo obtemos o erro de truncamento global (ETG):\n",
    "\n",
    "$$ \\mathrm {ETG} = n\\mathrm {ETL} = \\frac{(t-t_0)}{h} {\\frac {1}{2}}h^{2}y''(t_{0}) = (t-t_0) {\\frac {1}{2}}hy''(t_{0}) $$\n",
    "\n",
    "Ou seja, o método de Euler é um método de primeira ordem em h.\n",
    "\n",
    "Uma variante simples do método de Euler é o Metodo do Ponto Médio. Neste método a derivada é estimada no ponto $(t+h/2)$, ou seja, no ponto médio entre $t$ e $t+h$. Com essa simples mudança o método do ponto médio se torna um método de orden 2."
   ]
  },
  {
   "cell_type": "markdown",
   "metadata": {
    "tags": []
   },
   "source": [
    "## Métodos de Runge-Kutta\n",
    "\n",
    "Os métodos de Runge-Kutta (RK) podem ser pensados como uma generalização da filosofia apresentada para o Método de Euler. Sendo $\\frac{dy}{dx}=f(x,y)$ temos que os métodos RK são da forma:\n",
    "\n",
    "$$ y_{i+1} = y_i + \\varphi (x_i,y_i) h ~~~~~~~~~~(2)$$\n",
    "\n",
    "onde $\\varphi (x_i,y_i)$ são estimativas das derivadas necessárias.\n",
    "As estimativas das derivadas podem ser do tipo explicito:\n",
    "\n",
    "$$ \\varphi (x_i,y_i) = \\sum _{i=1}^{s}a_{i}k_{i} ~~~~~~~~~~(3)$$\n",
    "\n",
    "ou do tipo implicito:\n",
    "\n",
    "$$  y_{n+1}=y_{n}+h\\sum _{i=1}^{s}b_{i}k_{i} ~~~~~~~~~~(4)$$\n",
    "\n",
    "onde:\n",
    "\n",
    "$$ \\displaystyle k_{i}=f\\left(t_{n}+c_{i}h,\\ y_{n}+h\\sum _{j=1}^{s}a_{ij}k_{j}\\right),\\quad i=1,\\ldots ,s. $$\n",
    "\n",
    "\n",
    "onde $a_i$ são constantes e $k_i$ são combinações lineares de estimativas da derivada $\\frac{dy}{dx}$.\n",
    "\n",
    "Para entender melhor vamos construir as formulas para o método RK de segunda ordem.\n",
    "\n",
    "### Runge-Kutta de segunda ordem \n",
    "\n",
    "Para obter as expressões do método RK de $2^a$ ordem começamos pela integração formal do problema a ser estudado:\n",
    "\n",
    "$$ \\frac{dy}{dt} = f(y,t) \\implies y(t) = \\int{f(y,t)dt}  \\implies y_{i+1} = y_i + \\int^{t_{i+1}}_{t_i}{f(y,t)dt} $$ \n",
    "\n",
    "Para obter a integral expandimos usando uma série de Taylor em torno do ponto médio $t_{i+1/2}$:\n",
    "\n",
    "$$ f(t,y) \\approx f(y_{i+1/2},t_{i+1/2}) + (t-t_{i+1/2}) \\frac{df}{dt}_{(t_{i+1/2})} + O(h^{2}) $$\n",
    "\n",
    "como o termo $(t-t_{i+1/2})$ elevado a qualquer potência ímpar é igualmente positivo e negativo no intervalo $t_i<t<t_{i+1}$ temos:\n",
    "\n",
    "\n",
    "$$ \\int^{t_{i+1}}_{t_i}{f(y,t)dt} \\approx f(y_{i+1/2},t_{i+1/2})(t_{i+1}-t_i) + O(h^{3})$$\n",
    "\n",
    "sendo $h=(t_{i+1}-t_i)$ temos:\n",
    "\n",
    "$$ y_{i+1} = y_i + f(y_{i+1/2},t_{i+1/2})h + O(h^{3})$$\n",
    "\n",
    "Veja que o cancelamento dos termos de primeira ordem implica em uma precisão de $2^a$ ordem para o método. Mas a relação acima ainda não é a final pois precisamos obter $f(t_{i+1/2},y_{i+1/2})$. No entanto só sabemos $f(t_{i},y_{i})$. Para fazer isso usamos o método de Euler para obter a derivada no ponto médio:\n",
    "\n",
    "$$ y_{i+1/2} \\approx y_i + \\frac{h}{2}\\frac{dy}{dt} = y_i + \\frac{hf(y_i,t_i)}{2} $$\n",
    "\n",
    "Assim, podemos resumir o RK de $2^a$ ordem como:\n",
    "\n",
    "$$ k_1 = hf(y_i,t_i) $$\n",
    "\n",
    "$$ k_2 = hf(y_i+\\frac{1}{2}k_1,t_{i+1/2}) $$\n",
    "\n",
    "$$ y_{i+1} = y_i + k_2 $$\n",
    "\n",
    "\n"
   ]
  },
  {
   "cell_type": "markdown",
   "metadata": {},
   "source": [
    "## Pendulo simples\n",
    "\n",
    "Vamos aplicar o que vimos acima para a solução do proble do pendulo simples. Assumindo que podemos desprezar a resistência do ar podemos escrever a EDO para este sistema com base na lei de Newton como:\n",
    "\n",
    "$$ {\\frac {d^{2}\\theta }{dt^{2}}}+{\\frac {g}{\\ell }}\\sin \\theta =0. $$\n",
    "\n",
    "A solução para angulos pequenos onde $\\sin \\theta \\approx \\theta$ pode ser obtida analíticamente e é dada por:\n",
    "\n",
    "$$ \\theta (t)=\\theta _{0}\\cos \\left({\\sqrt {g \\over \\ell }}t\\right) $$\n",
    "\n",
    "\n",
    "Usando a metodologia descrita anteriormente definimos este problema como:"
   ]
  },
  {
   "cell_type": "code",
   "execution_count": 6,
   "metadata": {
    "tags": []
   },
   "outputs": [],
   "source": [
    "################################################################\n",
    "#      Oscilador Harmonico\n",
    "#      definindo o problema para a equação \n",
    "#      dxˆ2/dt = − g/l sin(theta)\n",
    "#\n",
    "#      d1 -> dtheta/dt=v   e d2 -> dv/dt = − g/l sin(theta)\n",
    "\n",
    "def pendulo(estado, tempo):\n",
    "    l = 0.1                           # comprimento do pendulo\n",
    "    \n",
    "    g0 = estado[1]                    # primeira derivada \n",
    "    \n",
    "    g1 = -9.8/l*np.sin(estado[0])     # segunda derivada\n",
    "    \n",
    "    return np.array( [ g0 , g1 ] )\n"
   ]
  },
  {
   "cell_type": "markdown",
   "metadata": {},
   "source": [
    "O método de RK de $2^a$ ordem é implementado como:"
   ]
  },
  {
   "cell_type": "code",
   "execution_count": 28,
   "metadata": {},
   "outputs": [],
   "source": [
    "def rk2 (y, time, dt, model):\n",
    "    k0 = dt * model(y, time )\n",
    "    k1 = dt * model(y + k0, time + dt)\n",
    "    ynext = y + 0.5 * (k0 + k1)\n",
    "    return ynext"
   ]
  },
  {
   "cell_type": "markdown",
   "metadata": {},
   "source": [
    "Note a semelhança com a implementação do método de Euler feita anteriormente.\n",
    "\n",
    "Para resolvermos o problema agora, basta escrever o programa de modo a definir as condições iniciais."
   ]
  },
  {
   "cell_type": "code",
   "execution_count": 32,
   "metadata": {},
   "outputs": [
    {
     "data": {
      "text/plain": [
       "<matplotlib.legend.Legend at 0x7f3119819cd0>"
      ]
     },
     "execution_count": 32,
     "metadata": {},
     "output_type": "execute_result"
    },
    {
     "data": {
      "image/png": "[encoded data removed]",
      "text/plain": [
       "<Figure size 432x288 with 1 Axes>"
      ]
     },
     "metadata": {
      "needs_background": "light"
     },
     "output_type": "display_data"
    }
   ],
   "source": [
    "import matplotlib.pyplot as plt\n",
    "import numpy as np\n",
    "\n",
    "# Resolvendo o problema com Euler\n",
    "\n",
    "tmax = 2.0 #limite de tempo\n",
    "\n",
    "plt.figure()\n",
    "\n",
    "for N in range(10,100,30):\n",
    "    \n",
    "    dt = tmax / float(N-1)\n",
    "    time = np.linspace(0 , tmax , N)\n",
    "    \n",
    "    # definindo estado inicial\n",
    "    y = np.zeros( [ N, 2 ] )\n",
    "    y [0,0] = np.pi/8.0   # angulo inicial\n",
    "    y [0,1] = 0.          # velocidade angular inicial\n",
    "\n",
    "\n",
    "\n",
    "    for j in range (N-1):\n",
    "        y[j+1] = euler(y[j], time[j], dt, pendulo)\n",
    "\n",
    "\n",
    "    plt.plot(time,y[:,0],label=str(N))    \n",
    "    plt.ylim(-5,5)\n",
    "    plt.xlabel('tempo')\n",
    "    plt.ylabel('angulo')\n",
    "plt.legend()"
   ]
  },
  {
   "cell_type": "code",
   "execution_count": 33,
   "metadata": {},
   "outputs": [
    {
     "data": {
      "text/plain": [
       "<matplotlib.legend.Legend at 0x7f31197a38b0>"
      ]
     },
     "execution_count": 33,
     "metadata": {},
     "output_type": "execute_result"
    },
    {
     "data": {
      "image/png": "[encoded data removed]",
      "text/plain": [
       "<Figure size 432x288 with 1 Axes>"
      ]
     },
     "metadata": {
      "needs_background": "light"
     },
     "output_type": "display_data"
    }
   ],
   "source": [
    "# Resolvendo o problema com RK2a\n",
    "\n",
    "tmax = 2.0 #limite de tempo\n",
    "\n",
    "plt.figure()\n",
    "\n",
    "for N in range(10,100,30):\n",
    "    \n",
    "    dt = tmax / float(N-1)\n",
    "    time = np.linspace(0 , tmax , N)\n",
    "    \n",
    "    # definindo estado inicial\n",
    "    y = np.zeros( [ N, 2 ] )\n",
    "    y [0,0] = np.pi/8.0   # angulo inicial\n",
    "    y [0,1] = 0.          # velocidade angular inicial\n",
    "\n",
    "\n",
    "\n",
    "    for j in range (N-1):\n",
    "        y[j+1] = rk2(y[j], time[j], dt, pendulo)\n",
    "\n",
    "\n",
    "    plt.plot(time,y[:,0],label=str(N))    \n",
    "    plt.ylim(-5,5)\n",
    "    plt.xlabel('tempo')\n",
    "    plt.ylabel('angulo')\n",
    "plt.legend()"
   ]
  },
  {
   "cell_type": "markdown",
   "metadata": {
    "jupyter": {
     "outputs_hidden": true
    }
   },
   "source": [
    "### Formulação geral do problema\n",
    "\n",
    "Vimos acima que podemos formular o problema de modo a facilitar sua implementação numerica para diversos algorítmos. Podemos formular o problema também de forma mais generalizada de modo que possamos implementar problemas mais complexos, por exemplo, quando tivermos diversas equações diferencias com mais de uma variável.\n",
    "\n",
    "Suponha por exemplo que tenhamo duas equações diferencias que queremos resolver:\n",
    "\n",
    "$$ \\frac{dx}{dt} = f_x(x,y,t), ~~~ \\frac{dy}{dt} = f_y(x,y,t) $$\n",
    "\n",
    "onde $f_x$ e $f_y$ são funções de x, y e t e possívelmente não lineares. \n",
    "\n",
    "Podemos escrever esse sistema de equações usando notação vetorial como:\n",
    "\n",
    "$$ \\frac{d\\mathbf{r}}{dt} = \\mathbf{f}(\\mathbf{r},t) $$\n",
    "\n",
    "onde $\\mathbf{r}=(x,y,...)$ e $\\mathbf{f}$ é o vetor de funções $\\mathbf{f}(\\mathbf{r},t) = (f_x(\\mathbf{r},t),f_y(\\mathbf{r},t),...)$ \n",
    "\n",
    "Com essa notação podemos expressar por exemplo o método de Euler como:\n",
    "\n",
    "$$ \\mathbf{r}(t+h) = \\mathbf{r}(t) + h\\mathbf{f}(\\mathbf{r},t)$$\n",
    "\n"
   ]
  },
  {
   "cell_type": "markdown",
   "metadata": {
    "jupyter": {
     "outputs_hidden": true
    }
   },
   "source": [
    "### Runge-Kutta de quarta ordem \n",
    "\n",
    "A lógica na obtenção do método RK de segunda ordem pode ser expandido através da obtenção de expansões de Taylor em torno de outros pontos e depois obtendo uma combinação linear das estimativas. Em princípio podería-se expandir em ordens cada vez maiores, no entanto em geral um bom equilibrio entre precisão e complexidade (custo computacional) é o RK de quarta ordem. As equações para este algorítmo são:\n",
    "\n",
    "$$ x(t+h) = x(t) + \\frac{1}{6} ( k_1 + 2k_2 + 2k_3 + k_4 ) $$\n",
    "\n",
    "onde \n",
    "\n",
    "$$ k_1 = hf(x,t) $$\n",
    "$$ k_2 = hf(x+1/2k_1,t+1/2h) $$\n",
    "$$ k_3 = hf(x+1/2k_2,t+1/2h) $$\n",
    "$$ k_4 = hf(x+k_3,t+h) $$\n",
    "\n",
    "Para mais detalhes veja: https://en.wikipedia.org/wiki/Runge%E2%80%93Kutta_methods#:~:text=In%20numerical%20analysis%2C%20the%20Runge,solutions%20of%20ordinary%20differential%20equations.\n",
    "\n",
    "\n",
    "Podemos aplicar o método acima de forma genérica como em métodos anteriores subsituindo $f(x,t)$ por $\\mathbf{f}(\\mathbf{r},t)$.\n",
    "\n"
   ]
  },
  {
   "cell_type": "markdown",
   "metadata": {},
   "source": [
    "### Aplicando a forma generalizada da formulação\n",
    "\n",
    "Para entender melhor a aplicação do que foi discutido acima, vamos tentar modelar o problema do espalhamento de uma infecção.\n",
    "\n",
    "Imagine um internato no interior do país. Esta escola é uma sociedade pequena e fechada. De repente, um ou mais alunos pegam gripe. Esperamos que a gripe possa se espalhar de forma bastante eficaz ou desaparecer. A questão é quantos alunos e funcionários da escola serão afetados. Um modelo simples pode nos ajudar a compreender a dinâmica de como a doença se espalha.\n",
    "\n",
    "Usamos uma função $S(t)$ contar quantos indivíduos, no momento $t$, têm a possibilidade de se infectar. Aqui, $t$ pode contar horas ou dias, por exemplo. Esses indivíduos constituem uma categoria denominada suscetíveis. Outra categoria consiste nos indivíduos infectados. Vamos usar a funao $I(t)$ contar quantos há na categoria I no momento $t$. Assumimos aqui por simplicidade  que um indivíduo que se recuperou da doença ganhou imunidade. Também existe uma pequena possibilidade de que um infectado morra. Em ambos os casos, o indivíduo é movido da categoria I para uma categoria que chamamos de categoria removida, rotulada com R. Usamos a função $R(t)$ para contar o número de indivíduos na categoria R categoria no tempo $t$. Quem entra na categoria R, não pode sair desta categoria.\n",
    "\n",
    "Para resumir, a propagação desta doença é essencialmente a dinâmica de mover os indivíduos da categoria S para a I e depois para a R:\n",
    "\n",
    "![Image of Yaktocat](http://hplgit.github.io/prog4comp/doc/pub/p4c-sphinx-Python/_images/categories_SIR.png)\n",
    "\n",
    "Este exemplo é um resumo do que é apresentado em detalhes em: http://hplgit.github.io/prog4comp/doc/pub/p4c-sphinx-Python/._pylight005.html#spreading-of-diseases\n",
    "\n",
    "O problema pode ser descrito pelo seguinte sistema de equações:\n",
    "\n",
    "$$ S' = -\\beta SI $$\n",
    "$$ I' = \\beta SI - \\gamma I $$\n",
    "$$ R' = \\gamma I $$\n",
    "\n",
    "onde:\n",
    "\n",
    "- $\\beta$ é o número médio de contatos por pessoa por tempo, multiplicado pela probabilidade de transmissão da doença em um contato entre um sujeito suscetível e um infeccioso\n",
    "\n",
    "- $\\gamma$ é a probabilidade de que um indivíduo se recupere em um intervalo de tempo unitário. Alternativamente, se um indivíduo é infeccioso por um período médio de tempo $D$, então $\\gamma = 1 / D$ \n",
    "\n",
    "\n",
    "\n",
    "detalhes sobre esse modelo e outras variantes podem ser obtidos aqui: https://en.wikipedia.org/wiki/Compartmental_models_in_epidemiology\n",
    "\n",
    "Tomando em conta a formulação vetorial discutida acima podemos escrever o modelo como:\n",
    "\n",
    "$$ \\mathbf{r} = (S(t), I(t), R(t)) $$\n",
    "\n",
    "$$ \\mathbf{r}^{n+1} = \\mathbf{r}^n + \\Delta t \\mathbf{f}(\\mathbf{r}^n, t_n) $$"
   ]
  },
  {
   "cell_type": "code",
   "execution_count": 36,
   "metadata": {},
   "outputs": [
    {
     "data": {
      "text/plain": [
       "<matplotlib.legend.Legend at 0x7f3119536d60>"
      ]
     },
     "execution_count": 36,
     "metadata": {},
     "output_type": "execute_result"
    },
    {
     "data": {
      "image/png": "[encoded data removed]",
      "text/plain": [
       "<Figure size 432x288 with 1 Axes>"
      ]
     },
     "metadata": {
      "needs_background": "light"
     },
     "output_type": "display_data"
    },
    {
     "data": {
      "image/png": "[encoded data removed]",
      "text/plain": [
       "<Figure size 432x288 with 1 Axes>"
      ]
     },
     "metadata": {
      "needs_background": "light"
     },
     "output_type": "display_data"
    }
   ],
   "source": [
    "import matplotlib.pyplot as plt\n",
    "import numpy as np\n",
    "\n",
    "################################################################\n",
    "#      Modelo SIR\n",
    "\n",
    "def SRI(estado, tempo):\n",
    "    \n",
    "    S, I, R = estado\n",
    "    \n",
    "    g0 = -beta*S*I\n",
    "    g1 = beta*S*I - gamma*I\n",
    "    g2 = gamma*I\n",
    "\n",
    "    return np.array( [ g0 , g1, g2 ] )\n",
    "\n",
    "def euler(y,t,dt,model):\n",
    "    ynext = y + model(y, t) * dt\n",
    "    return ynext\n",
    "\n",
    "def rk2 (y, time, dt, model):\n",
    "    k0 = dt * model(y, time )\n",
    "    k1 = dt * model(y + k0, time + dt)\n",
    "    ynext = y + 0.5 * ( k0 + k1 )\n",
    "    return ynext\n",
    "\n",
    "# Resolvendo o problema com RK2a\n",
    "\n",
    "# considerando que no início de um dia havia 40 suscetíveis e 8 infectados,\n",
    "# e que no dia seguinte haviam 30 e 18, respectivamente\n",
    "beta = 10./(40*8*24)\n",
    "\n",
    "# Entre 15 infectados, observou-se que 3 se recuperaram durante um dia\n",
    "gamma = 3./(15*24)\n",
    "\n",
    "dt = 24             # em horas\n",
    "D = 30               # Simula para D days\n",
    "tmax = (D*24)     # tempo final\n",
    "\n",
    "time = np.arange(0 , tmax , dt)\n",
    "\n",
    "# definindo estado inicial\n",
    "y = np.zeros( [ time.size, 3 ] )\n",
    "y [0,0] = 50\n",
    "y [0,1] = 1.\n",
    "y [0,2] = 0.\n",
    "\n",
    "y_euler = np.copy(y)\n",
    "y_rk2 = np.copy(y)\n",
    "\n",
    "# aplica Euler e RK2\n",
    "for j in range (time.size-1):\n",
    "    y_rk2[j+1,:] = rk2(y_rk2[j,:], time[j], dt, SRI)\n",
    "    y_euler[j+1,:] = euler(y_euler[j,:], time[j], dt, SRI)\n",
    "    \n",
    "\n",
    "plt.figure()\n",
    "plt.plot(time/24.,y_euler[:,0],label='S')    \n",
    "plt.plot(time/24.,y_euler[:,1],label='I')    \n",
    "plt.plot(time/24.,y_euler[:,2],label='R')    \n",
    "plt.xlabel('tempo (dias)')\n",
    "plt.ylabel('numero')\n",
    "plt.legend()\n",
    "\n",
    "plt.figure()\n",
    "plt.plot(time/24.,y_rk2[:,0],label='S')    \n",
    "plt.plot(time/24.,y_rk2[:,1],label='I')    \n",
    "plt.plot(time/24.,y_rk2[:,2],label='R')    \n",
    "plt.xlabel('tempo (dias)')\n",
    "plt.ylabel('numero')\n",
    "plt.legend()\n",
    "\n"
   ]
  },
  {
   "cell_type": "code",
   "execution_count": 3,
   "metadata": {},
   "outputs": [
    {
     "data": {
      "text/plain": [
       "array([0.0000e+00, 1.0000e-01, 2.0000e-01, ..., 4.3197e+03, 4.3198e+03,\n",
       "       4.3199e+03])"
      ]
     },
     "execution_count": 3,
     "metadata": {},
     "output_type": "execute_result"
    }
   ],
   "source": [
    "import matplotlib.pyplot as plt\n",
    "import numpy as np\n",
    "np.arange(0 , tmax , dt)"
   ]
  },
  {
   "cell_type": "code",
   "execution_count": 5,
   "metadata": {},
   "outputs": [
    {
     "data": {
      "text/plain": [
       "43200"
      ]
     },
     "execution_count": 5,
     "metadata": {},
     "output_type": "execute_result"
    }
   ],
   "source": [
    "time.size\n"
   ]
  },
  {
   "cell_type": "code",
   "execution_count": null,
   "metadata": {},
   "outputs": [],
   "source": []
  }
 ],
 "metadata": {
  "anaconda-cloud": {},
  "kernelspec": {
   "display_name": "Python 3 (ipykernel)",
   "language": "python",
   "name": "python3"
  },
  "language_info": {
   "codemirror_mode": {
    "name": "ipython",
    "version": 3
   },
   "file_extension": ".py",
   "mimetype": "text/x-python",
   "name": "python",
   "nbconvert_exporter": "python",
   "pygments_lexer": "ipython3",
   "version": "3.8.8"
  }
 },
 "nbformat": 4,
 "nbformat_minor": 4
}
