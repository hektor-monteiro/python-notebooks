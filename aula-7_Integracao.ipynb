{
 "cells": [
  {
   "cell_type": "markdown",
   "metadata": {},
   "source": [
    "# Integração numérica\n",
    "\n",
    "De modo geral vemos em cálculo que a integral de uma função é dada por:\n",
    "\n",
    "$$\\int_{a}^{b} f(x) dx = \\lim_{x\\to\\infty} \\sum_{n=1}^{\\infty} f(x_n) \\Delta x $$\n",
    "\n",
    "Numéricamente o que fazemos é basicamente truncar a somatória acima em um N finito. A precisão obtida é dependente do valor de N adotado.\n",
    "\n",
    "\n",
    "\n",
    "## A regra dos trapézios"
   ]
  },
  {
   "cell_type": "markdown",
   "metadata": {},
   "source": [
    "Um exemplo simples da integração numérica usando a regra dos trapézios:\n",
    "\n",
    "\n"
   ]
  },
  {
   "cell_type": "markdown",
   "metadata": {},
   "source": [
    "A área de um único trapézio entre os pontos $x_j$ and $x_{j+1}$ é dada por:\n",
    "$$ \\frac{h}{2} (f(x_j) + f(x_{j+1})). $$\n",
    "\n",
    "Somando isso sobre $n$ trapezóides em um dado intervalo [a,b] temos:\n",
    "\n",
    "$$ h\\left(\\frac 1 2 f(x_0) + f(x_1) + f(x_2) + \\cdots + f(x_{n-2}) + \\frac 1 2 f(x_{n-1})\\right) = h\\sum_{j=0}^{n-1} f(x_j) - \\frac h 2 \\left(f(x_0) + f(x_{n-1})\\right) =  h\\sum_{j=0}^{n-1} f(x_j) + \\frac h 2 \\left(f(a) + f(b))\\right). $$\n"
   ]
  },
  {
   "cell_type": "code",
   "execution_count": 20,
   "metadata": {
    "collapsed": true,
    "jupyter": {
     "outputs_hidden": true
    }
   },
   "outputs": [],
   "source": [
    "%matplotlib inline\n",
    "import numpy as np\n",
    "import matplotlib.pyplot as plt"
   ]
  },
  {
   "cell_type": "markdown",
   "metadata": {},
   "source": [
    "Primeiro definimos a função para qual desejamos obter o valor da integral:"
   ]
  },
  {
   "cell_type": "code",
   "execution_count": 21,
   "metadata": {
    "collapsed": true,
    "jupyter": {
     "outputs_hidden": true
    }
   },
   "outputs": [],
   "source": [
    "def f(x):\n",
    "    return (x-3)*(x-5)*(x-7)+85"
   ]
  },
  {
   "cell_type": "markdown",
   "metadata": {},
   "source": [
    "Para podermos fazer o gráfico mostrando a função e os trapézios utilizados na integração, amostramos a função entre 0 e 10 utilizando 200 pontos:"
   ]
  },
  {
   "cell_type": "code",
   "execution_count": 22,
   "metadata": {
    "collapsed": true,
    "jupyter": {
     "outputs_hidden": true
    }
   },
   "outputs": [],
   "source": [
    "x = np.linspace(0, 10, 200)\n",
    "y = f(x)"
   ]
  },
  {
   "cell_type": "markdown",
   "metadata": {},
   "source": [
    "defina a região onde se quer integrar e o numero de trapézios a usar"
   ]
  },
  {
   "cell_type": "code",
   "execution_count": 33,
   "metadata": {},
   "outputs": [
    {
     "name": "stdout",
     "output_type": "stream",
     "text": [
      "[ 1.    2.75  4.5   6.25  8.  ]\n",
      "[  37.         82.609375   86.875      81.953125  100.      ]\n"
     ]
    }
   ],
   "source": [
    "a, b = 1, 8                     # define os limnites de integração\n",
    "\n",
    "ndiv = 5                        # numero de pontos a serem utilizados\n",
    "xint = np.linspace(a,b,ndiv)    # cria um vetor com ndiv elementos entre os limites de integração\n",
    "yint = f(xint)                  # calcula o valor da função nos pontos do vetor acima\n",
    "\n",
    "print(xint)\n",
    "print(yint)"
   ]
  },
  {
   "cell_type": "markdown",
   "metadata": {},
   "source": [
    "plotamos a curva e os trapézios usados para a integração"
   ]
  },
  {
   "cell_type": "code",
   "execution_count": 34,
   "metadata": {},
   "outputs": [
    {
     "data": {
      "text/plain": [
       "[<matplotlib.lines.Line2D at 0x7f95af857550>]"
      ]
     },
     "execution_count": 34,
     "metadata": {},
     "output_type": "execute_result"
    },
    {
     "data": {
      "image/png": "[encoded data removed]",
      "text/plain": [
       "<matplotlib.figure.Figure at 0x7f95af9367d0>"
      ]
     },
     "metadata": {},
     "output_type": "display_data"
    }
   ],
   "source": [
    "plt.plot(x, y, lw=2,color='r')\n",
    "plt.axis([a-1, b+1, 0, max([f(a),f(b)])])\n",
    "plt.fill_between(xint, 0, yint, facecolor='gray', alpha=0.4)\n",
    "plt.text(0.5 * (a + b), 30,r\"$\\int_a^b f(x)dx$\", horizontalalignment='center', fontsize=20);\n",
    "\n",
    "plt.plot(xint,yint,'bo-')\n"
   ]
  },
  {
   "cell_type": "markdown",
   "metadata": {},
   "source": [
    "O erro para a estimativa da integral pelo método dos trapézios é dado por:\n",
    "\n",
    "$$ \\text{erro} = -\\frac{(b-a)^2}{12N^2} \\big[ f'(b)-f'(a) \\big] + O(N^{-3}) $$\n",
    "\n",
    "ou \n",
    "\n",
    "$$ \\text{erro} = \\frac{h^2}{12} \\big[ f'(a)-f'(b) \\big] + O(h^4) $$\n",
    "\n",
    "\n",
    "Vemos por essa expressão que o método dos trapézios é o que consideramos como de primeira ordem pois é acurado até termos com $h$ e com erro da ordem de $h^2$\n",
    "\n",
    "No contexto da física computacional é importante também levar em conta o erro de arredondamento. Atualmente em Python esse erro é da ordem de $10^{-16}$. Isso significa que apesar do erro diminuir com o aumento da subdivisão do intervalo de integração, existe um limite dado pelo erro de arredondamento da máquina."
   ]
  },
  {
   "cell_type": "markdown",
   "metadata": {},
   "source": [
    "Usando as funções nativas do SciPy fazemos a conta usando quadratura e os trapézios"
   ]
  },
  {
   "cell_type": "code",
   "execution_count": 35,
   "metadata": {},
   "outputs": [
    {
     "name": "stdout",
     "output_type": "stream",
     "text": [
      "Integral por quadratura: 565.25 +/- 6.27553564669e-12\n",
      "Integral usando  4 trapezóides: 559.890625\n"
     ]
    }
   ],
   "source": [
    "from scipy.integrate import quad, trapz\n",
    "integral, error = quad(f, a, b)\n",
    "print \"Integral por quadratura:\", integral, \"+/-\", error\n",
    "print \"Integral usando \", len(xint)-1, \"trapezóides:\", trapz(yint, xint)"
   ]
  },
  {
   "cell_type": "markdown",
   "metadata": {},
   "source": [
    "## Método de Simpson\n",
    "\n",
    "O método de Simpson utiliza uma aproximação mais sofisticada para o intervalo a ser integrado\n",
    "\n",
    "neste método se aproxima a função no intervalo [a,b] por um polinômio de segundo grau. Esse polinomio, conhecido como polinomio interpolador de Lagrange, tem o mesmo valor de $f(x)$ nos pontos a, b:\n",
    "\n",
    "$$P(x)=f(a){\\tfrac {(x-m)(x-b)}{(a-m)(a-b)}}+f(m){\\tfrac {(x-a)(x-b)}{(m-a)(m-b)}}+f(b){\\tfrac {(x-a)(x-m)}{(b-a)(b-m)}}.$$\n",
    "\n",
    "Usando este polinomio calculado no ponto médio $m = (a + b) / 2$ e efetuando a sua integração obtem-se:\n",
    "\n",
    "$$ \\int _{a}^{b}f(x)\\,dx\\approx {\\tfrac {b-a}{6}}\\left[f(a)+4f\\left({\\tfrac {a+b}{2}}\\right)+f(b)\\right] $$\n",
    "\n",
    "Essa expressão pode ser expandida para vários intervalos como foi feito para a regra dos trapézios:\n",
    "\n",
    "$$ \\int _{a}^{b}f(x)\\,dx\\approx {\\tfrac  {h}{3}}{\\bigg [}f(a)+2\\sum _{{j=1}}^{{n/2-1}}f(x_{{2j}})+4\\sum _{{j=1}}^{{n/2}}f(x_{{2j-1}})+f(b){\\bigg ]},$$\n",
    "\n"
   ]
  },
  {
   "cell_type": "code",
   "execution_count": 21,
   "metadata": {},
   "outputs": [
    {
     "name": "stdout",
     "output_type": "stream",
     "text": [
      "[1.   2.75 4.5 ] [37.       82.609375 86.875   ]\n",
      "Fit coeficients        2\n",
      "-6.75 x + 51.38 x - 7.625\n",
      "[4.5  6.25 8.  ] [ 86.875     81.953125 100.      ]\n",
      "Fit coeficients       2\n",
      "3.75 x - 43.12 x + 205\n"
     ]
    },
    {
     "data": {
      "image/png": "[encoded data removed]",
      "text/plain": [
       "<Figure size 432x288 with 1 Axes>"
      ]
     },
     "metadata": {
      "needs_background": "light"
     },
     "output_type": "display_data"
    }
   ],
   "source": [
    "%matplotlib inline\n",
    "\n",
    "import numpy as np\n",
    "import matplotlib.pyplot as plt\n",
    "from scipy.interpolate import lagrange\n",
    "\n",
    "def f(x):\n",
    "#    return (x-3.)*(x-5.)+10.\n",
    "    return (x-3.)*(x-5.)*(x-7)+85.\n",
    "#    return 60 + x**3 + 50*np.sin(5.*x)\n",
    "\n",
    "x = np.linspace(0, 10, 400)\n",
    "y = f(x)\n",
    "\n",
    "a, b = 1., 8.                     # define os limnites de integração\n",
    "\n",
    "ndiv = 4                        # numero de divisões a serem utilizadas DEVE SER PAR!\n",
    "xint = np.linspace(a,b,ndiv+1)    # cria um vetor com ndiv elementos entre os limites de integração\n",
    "yint = f(xint)                  # calcula o valor da função nos pontos do vetor acima\n",
    "\n",
    "\n",
    "plt.plot(x, y, lw=2,color='r')\n",
    "plt.axis([a-1, b+1, 0, max([f(a),f(b)])])\n",
    "plt.plot(xint,yint,'bo')\n",
    "\n",
    "\n",
    "for i in range(0,ndiv,2):\n",
    "    xfit = np.array([xint[i],(xint[i]+xint[i+2])/2,xint[i+2]])\n",
    "    yfit = f(xfit)\n",
    "    print (xfit,yfit)\n",
    "    \n",
    "    # usando ajuste polynomial\n",
    "    #z = np.polyfit(xfit, yfit, 2)\n",
    "    \n",
    "    # using Lagrange interpolator    \n",
    "    z = lagrange(xfit, yfit)\n",
    "    \n",
    "    print(\"Fit coeficients\", z)\n",
    "    \n",
    "    fit = np.poly1d(z)\n",
    "    \n",
    "    xnew = np.linspace(xfit[0], xfit[2], 50)\n",
    "    ynew = fit(xnew)\n",
    "    \n",
    "    plt.plot(xnew,ynew,color='b')\n",
    "    plt.fill_between(xnew, 0, ynew, facecolor='gray', alpha=0.4)\n",
    "\n",
    "    "
   ]
  },
  {
   "cell_type": "markdown",
   "metadata": {},
   "source": [
    "## Erro do método\n",
    "\n",
    "Pode-se mostrar que o erro cometido pelo método de Simpson é:\n",
    "\n",
    "${\\tfrac  {1}{90}}\\left({\\tfrac  {b-a}{2}}\\right)^{5}\\left|f^{{(4)}}(\\xi )\\right|$\n",
    "\n",
    "onde $f^{{(4)}}(\\xi )$ é a quarta derivada da função calculada em algum ponto $\\xi$ no intervalo $[a,b]$ de integração. Estas estimativas são obtidas através de expansão de Taylor da função em torno do ponto médio do intervalo de integração usado. \n",
    "\n",
    "Note que com isso o método de Simpson fornece soluções exatas para polinômios quadráticos ou menor.\n",
    "\n",
    "![erros](erros-integracao.png)\n",
    "\n",
    "## Erros na prática\n",
    "\n",
    "Para obter estimativas de erros em situações onde temos dados tabelados e não funções definidas, podemos usar a comparação de resultados obtidos com refinamentos sucessivos.\n",
    "\n",
    "Usando as formulas de erros mostradas anteriormente pode-se mostrar que:\n",
    "\n",
    "$\\epsilon_i = \\frac{1}{3}\\left| I_i-I_{i-1} \\right| $\n",
    "\n",
    "para a regra dos trapézios e \n",
    "\n",
    "$\\epsilon_i = \\frac{1}{15}\\left| I_i-I_{i-1} \\right| $\n",
    "\n",
    "para o método de Simpson."
   ]
  },
  {
   "cell_type": "markdown",
   "metadata": {},
   "source": [
    "## Métodos de integração de ordem maior\n",
    "\n",
    "O método dos trapézios usa um polinomio interpolador de primeira ordem. O método de simpson um interpolador de segunda ordem. Podemos usar polinomios interpoladores de qualquer ordem com o objetivo de obter estimativas mais precisas das integrais. \n",
    "\n",
    "Regras de integração de ordens maiores são geralmente conhecidas como fórmulas de Newton-Cotes. Veja mais detalhes em: https://en.wikipedia.org/wiki/Newton%E2%80%93Cotes_formulas\n",
    "\n",
    "Estes métodos tem em comum o espaçamento uniforme dos pontos que dividemo intervalo de integração. No entanto podemos pensar em interpoladores que tomam pontos não igualmente espaçados e que podem se situar em regiões que levam a maior precisão da estimativa da integral. Uma solução seria usar pontos de modo adaptativo, sendo mais numerosos em regiões onde a função apresente grande variação.\n",
    "\n",
    "Uma das melhores maneiras de se obter uma integração precisa é usando o método da Quadratura Gaussiana: https://en.wikipedia.org/wiki/Gaussian_quadrature\n",
    "\n",
    "De um modo geral, nos métodos de ordem maior a integral é estimada com ordem (N-1) de precisão usando:\n",
    "\n",
    "$$\\int _{-1}^{1}f(x)\\,dx=\\sum _{i=1}^{n}w_{i}f(x_{i}).$$\n",
    "\n",
    "onde $w_{i}$ são pesos determinados pelos polinomios interpoladores.\n",
    "\n",
    "No caso da Quadratura Gaussiana permite-se usar pontos não necessáriamente espaçados igualmente e portanto, sendo N pontos, ganha-se mais N graus de liberdade o que leva a uma precisão de (2N-1)\n",
    "\n"
   ]
  },
  {
   "cell_type": "markdown",
   "metadata": {},
   "source": [
    "## Integrais multiplas\n",
    "\n",
    "Integrais multiplas são bastante comuns em problemas de física e sua resolução numérica se dá através da aplicação das técnicas discutidas acima.\n",
    "\n",
    "De modo geral temos:\n",
    "\n",
    "$$ I = \\int\\int f(x,y)\\,dxdy $$\n",
    "\n",
    "podemos resolver esta integral usando:\n",
    "\n",
    "$$ F(y) = \\int f(x,y)\\,dx $$\n",
    "\n",
    "e\n",
    "\n",
    "$$ I = \\int F(y)\\,dy $$\n",
    "\n",
    "na pratica executaremos duas somas:\n",
    "\n",
    "$$F(y)\\approx \\sum _{i=1}^{N}w_{i}f(x_{i},y).$$\n",
    "\n",
    "e $$ I \\approx \\sum _{j=1}^{N}w_{j}F(y_{i}).$$\n",
    "\n",
    "essa formulação permite também ter intervalos de inetgração que são funções.\n",
    "\n",
    "Exemplo usando método dos trapézios: \n",
    "\n",
    "Vamos calcular a integral dupla dada por:\n",
    "\n",
    "$$ I = \\int_a^b \\int_c^d f(x,y) dydx = \\int_a^b g(x)dx,\\quad\n",
    "g(x) = \\int_c^d f(x,y) dy\\thinspace .$$\n",
    "\n",
    "Na pratica calculamos primeiro g(x) em um dado ponto $x_i$:\n",
    "\n",
    "$$ g(x_i) = \\int_c^d f(x_i,y) dy \\approx  h_y \\sum_{j=0}^{n_y-1} f(x_i,y_j) + \\frac{h_y}{2} \\left(f(x_i,c) + f(x_i,d))\\right) $$\n",
    "\n",
    "e psteriormente calculamos a integral final:\n",
    "\n",
    "$$ I = \\int_a^b g(x) dx \\approx  h_x \\sum_{i=0}^{n_x-1} g(x_i) + \\frac {h_x} 2 \\left(g(a) + g(b))\\right) $$\n"
   ]
  },
  {
   "cell_type": "code",
   "execution_count": 1,
   "metadata": {},
   "outputs": [
    {
     "name": "stdout",
     "output_type": "stream",
     "text": [
      "0.8944476794167258 0.890373769055464\n",
      "2.6964302426115094\n"
     ]
    }
   ],
   "source": [
    "import numpy as np\n",
    "\n",
    "# definindo uma função para calculo de integral dupla\n",
    "\n",
    "def int_dupla(f, a, b, c, d, nx, ny):\n",
    "    hx = (b - a)/float(nx)\n",
    "    hy = (d - c)/float(ny)\n",
    "    xint = np.linspace(a,b,nx)\n",
    "    yint = np.linspace(c,d,ny)\n",
    "    gx = np.zeros(nx)\n",
    "    I = 0\n",
    "    \n",
    "    for i in range(nx):\n",
    "        for j in range(ny):\n",
    "            gx[i] += hy*f(xint[i], yint[j]) \n",
    "            \n",
    "        gx[i] = gx[i] + hy/2.*(f(xint[i], c) + f(xint[i], d))\n",
    "            \n",
    "        I += hx*gx[i]\n",
    "        \n",
    "    I = I + hx/2.*(gx[0] + gx[nx-1])\n",
    "        \n",
    "    return I \n",
    "\n",
    "# definindo uma função para calculo de integral dupla usando tecnica do ponto médio\n",
    "# ver https://en.wikipedia.org/wiki/Riemann_sum\n",
    "\n",
    "def pm_dupla(f, a, b, c, d, nx, ny):\n",
    "    hx = (b - a)/float(nx)\n",
    "    hy = (d - c)/float(ny)\n",
    "    I = 0\n",
    "    for i in range(nx):\n",
    "        for j in range(ny):\n",
    "            xi = a + hx/2 + i*hx\n",
    "            yj = c + hy/2 + j*hy\n",
    "            I += hx*hy*f(xi, yj)\n",
    "    return I\n",
    "\n",
    "# função para testar\n",
    "#def f(x, y):\n",
    "#    return 2*x + y\n",
    "\n",
    "# 0.886226925453\n",
    "def f(z,x):\n",
    "    return np.exp(-z**2/(1-z)**2)/(1-z)**2\n",
    "\n",
    "sz = 500\n",
    "I1 = int_dupla(f, 0, 2, 2, 3, sz,sz)\n",
    "I2 = pm_dupla(f, 0, 2, 2, 3, sz,sz)\n",
    "\n",
    "print(I1,I2)\n",
    "\n",
    "# O que acontece quando os limites estão em pontos singulares\n",
    "print(int_dupla(f, -1, 1, -1, 1, sz,sz))"
   ]
  },
  {
   "cell_type": "markdown",
   "metadata": {},
   "source": [
    "## Pacotes Scipy para integração\n",
    "\n",
    "O principal módulo de computação científica do Python tem um conjunto de pacotes específico para efetuar integração numérica. \n",
    "\n",
    "Existem pacotes tanto para integração de funções definidas por equações quanto para aquelas definidas por pontos tabulados.\n",
    "\n",
    "Mais detalhes de cada função de integração e em que casos se encaixam estão em:\n",
    "\n",
    "https://docs.scipy.org/doc/scipy/reference/tutorial/integrate.html"
   ]
  },
  {
   "cell_type": "markdown",
   "metadata": {},
   "source": [
    "## Exercícios:\n",
    "\n"
   ]
  },
  {
   "cell_type": "markdown",
   "metadata": {},
   "source": [
    "#### 1 - Escreva uma função em python que calcule a integral pelo método dos trapézios, utilizando um looping \"FOR\" para calcular a somatória. Com essa função calcule as integrais das funções abaixo:\n",
    "\n",
    "$$a)~ (x-3)*(x-5)*(x-7)+85 ~~~com~a=1~e~b=9\\\\\n",
    "  b)~f_2(x) = 1 + x^3 + \\sin(kx)~~~com~a=0~e~b=2$$\n",
    "  \n",
    "  onde $k$ é um parametro.\n",
    "  \n",
    "  - Faça uma análise dos erros cometidos a medida que se aumenta o numero de intervalos. Para o numero de intervalos utilize a seginte sequencia: [5, 10, 20, 40, 80, 160, 320]. Utilize gráficos para mostrar seus resultados.\n",
    "  \n",
    "  - Tente usar a função SUM para escrever uma outra versão da função de calculo via trapézios.\n",
    "\n",
    "Sua função deve ser algo como:\n",
    "\n",
    "```python\n",
    "def trapezoidal(f, a, b, N):\n",
    "    \"\"\"Essa função integra uma função f de a até b usando N intervalos.\"\"\"\n",
    "    # seu código aqui.\n",
    "```"
   ]
  },
  {
   "cell_type": "markdown",
   "metadata": {},
   "source": [
    "# Referencias\n",
    "\n",
    "Uma fonte de referencia muito boa para esse tema é a página da wikipédia:\n",
    "\n",
    "https://en.wikipedia.org/wiki/Numerical_integration\n",
    "\n",
    "https://en.wikipedia.org/wiki/Simpson%27s_rule\n"
   ]
  }
 ],
 "metadata": {
  "anaconda-cloud": {},
  "kernelspec": {
   "display_name": "Python 3 (ipykernel)",
   "language": "python",
   "name": "python3"
  },
  "language_info": {
   "codemirror_mode": {
    "name": "ipython",
    "version": 3
   },
   "file_extension": ".py",
   "mimetype": "text/x-python",
   "name": "python",
   "nbconvert_exporter": "python",
   "pygments_lexer": "ipython3",
   "version": "3.7.10"
  }
 },
 "nbformat": 4,
 "nbformat_minor": 4
}
